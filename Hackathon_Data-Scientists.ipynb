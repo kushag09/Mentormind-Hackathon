{
  "nbformat": 4,
  "nbformat_minor": 0,
  "metadata": {
    "colab": {
      "name": "data_restaurent.ipynb",
      "provenance": [],
      "collapsed_sections": []
    },
    "kernelspec": {
      "display_name": "Python",
      "language": "python",
      "name": "conda-env-python-py"
    },
    "language_info": {
      "codemirror_mode": {
        "name": "ipython",
        "version": 3
      },
      "file_extension": ".py",
      "mimetype": "text/x-python",
      "name": "python",
      "nbconvert_exporter": "python",
      "pygments_lexer": "ipython3",
      "version": "3.6.11"
    }
  },
  "cells": [
    {
      "cell_type": "markdown",
      "metadata": {
        "id": "lYDHBRM__bag"
      },
      "source": [
        "<h4>Problem Statment: Using Data Available from Restaurants, Predict the Only Order Delivery Time Based on certain Factors"
      ]
    },
    {
      "cell_type": "code",
      "metadata": {
        "id": "X6c6ippK_aM3"
      },
      "source": [
        "#Importing libraries\n",
        "import numpy as np\n",
        "import pandas as pd"
      ],
      "execution_count": null,
      "outputs": []
    },
    {
      "cell_type": "markdown",
      "metadata": {
        "id": "ITew6PFK_baq"
      },
      "source": [
        "<h4>Reading the data"
      ]
    },
    {
      "cell_type": "code",
      "metadata": {
        "id": "6KjrRmBj_lVe"
      },
      "source": [
        "data = pd.read_excel(\"Data_Train.xlsx\")"
      ],
      "execution_count": null,
      "outputs": []
    },
    {
      "cell_type": "code",
      "metadata": {
        "id": "YWv0IM2yAHIn",
        "outputId": "dc50fc8b-3e5d-427e-a24a-1861962154d8",
        "colab": {
          "base_uri": "https://localhost:8080/",
          "height": 202
        }
      },
      "source": [
        "data.head()"
      ],
      "execution_count": null,
      "outputs": [
        {
          "output_type": "execute_result",
          "data": {
            "text/html": [
              "<div>\n",
              "<style scoped>\n",
              "    .dataframe tbody tr th:only-of-type {\n",
              "        vertical-align: middle;\n",
              "    }\n",
              "\n",
              "    .dataframe tbody tr th {\n",
              "        vertical-align: top;\n",
              "    }\n",
              "\n",
              "    .dataframe thead th {\n",
              "        text-align: right;\n",
              "    }\n",
              "</style>\n",
              "<table border=\"1\" class=\"dataframe\">\n",
              "  <thead>\n",
              "    <tr style=\"text-align: right;\">\n",
              "      <th></th>\n",
              "      <th>Restaurant</th>\n",
              "      <th>Location</th>\n",
              "      <th>Cuisines</th>\n",
              "      <th>Average_Cost</th>\n",
              "      <th>Minimum_Order</th>\n",
              "      <th>Rating</th>\n",
              "      <th>Votes</th>\n",
              "      <th>Reviews</th>\n",
              "      <th>Delivery_Time</th>\n",
              "    </tr>\n",
              "  </thead>\n",
              "  <tbody>\n",
              "    <tr>\n",
              "      <th>0</th>\n",
              "      <td>ID_6321</td>\n",
              "      <td>FTI College, Law College Road, Pune</td>\n",
              "      <td>Fast Food, Rolls, Burger, Salad, Wraps</td>\n",
              "      <td>₹200</td>\n",
              "      <td>₹50</td>\n",
              "      <td>3.5</td>\n",
              "      <td>12</td>\n",
              "      <td>4</td>\n",
              "      <td>30 minutes</td>\n",
              "    </tr>\n",
              "    <tr>\n",
              "      <th>1</th>\n",
              "      <td>ID_2882</td>\n",
              "      <td>Sector 3, Marathalli</td>\n",
              "      <td>Ice Cream, Desserts</td>\n",
              "      <td>₹100</td>\n",
              "      <td>₹50</td>\n",
              "      <td>3.5</td>\n",
              "      <td>11</td>\n",
              "      <td>4</td>\n",
              "      <td>30 minutes</td>\n",
              "    </tr>\n",
              "    <tr>\n",
              "      <th>2</th>\n",
              "      <td>ID_1595</td>\n",
              "      <td>Mumbai Central</td>\n",
              "      <td>Italian, Street Food, Fast Food</td>\n",
              "      <td>₹150</td>\n",
              "      <td>₹50</td>\n",
              "      <td>3.6</td>\n",
              "      <td>99</td>\n",
              "      <td>30</td>\n",
              "      <td>65 minutes</td>\n",
              "    </tr>\n",
              "    <tr>\n",
              "      <th>3</th>\n",
              "      <td>ID_5929</td>\n",
              "      <td>Sector 1, Noida</td>\n",
              "      <td>Mughlai, North Indian, Chinese</td>\n",
              "      <td>₹250</td>\n",
              "      <td>₹99</td>\n",
              "      <td>3.7</td>\n",
              "      <td>176</td>\n",
              "      <td>95</td>\n",
              "      <td>30 minutes</td>\n",
              "    </tr>\n",
              "    <tr>\n",
              "      <th>4</th>\n",
              "      <td>ID_6123</td>\n",
              "      <td>Rmz Centennial, I Gate, Whitefield</td>\n",
              "      <td>Cafe, Beverages</td>\n",
              "      <td>₹200</td>\n",
              "      <td>₹99</td>\n",
              "      <td>3.2</td>\n",
              "      <td>521</td>\n",
              "      <td>235</td>\n",
              "      <td>65 minutes</td>\n",
              "    </tr>\n",
              "  </tbody>\n",
              "</table>\n",
              "</div>"
            ],
            "text/plain": [
              "  Restaurant                             Location  ... Reviews Delivery_Time\n",
              "0    ID_6321  FTI College, Law College Road, Pune  ...       4    30 minutes\n",
              "1    ID_2882                 Sector 3, Marathalli  ...       4    30 minutes\n",
              "2    ID_1595                       Mumbai Central  ...      30    65 minutes\n",
              "3    ID_5929                      Sector 1, Noida  ...      95    30 minutes\n",
              "4    ID_6123   Rmz Centennial, I Gate, Whitefield  ...     235    65 minutes\n",
              "\n",
              "[5 rows x 9 columns]"
            ]
          },
          "metadata": {
            "tags": []
          },
          "execution_count": 3
        }
      ]
    },
    {
      "cell_type": "code",
      "metadata": {
        "id": "Q3ZXs97zAJwH",
        "outputId": "9e1fc4df-a7e6-4c60-bb36-b7c705cff907",
        "colab": {
          "base_uri": "https://localhost:8080/",
          "height": 171
        }
      },
      "source": [
        "data.describe()"
      ],
      "execution_count": null,
      "outputs": [
        {
          "output_type": "execute_result",
          "data": {
            "text/html": [
              "<div>\n",
              "<style scoped>\n",
              "    .dataframe tbody tr th:only-of-type {\n",
              "        vertical-align: middle;\n",
              "    }\n",
              "\n",
              "    .dataframe tbody tr th {\n",
              "        vertical-align: top;\n",
              "    }\n",
              "\n",
              "    .dataframe thead th {\n",
              "        text-align: right;\n",
              "    }\n",
              "</style>\n",
              "<table border=\"1\" class=\"dataframe\">\n",
              "  <thead>\n",
              "    <tr style=\"text-align: right;\">\n",
              "      <th></th>\n",
              "      <th>Restaurant</th>\n",
              "      <th>Location</th>\n",
              "      <th>Cuisines</th>\n",
              "      <th>Average_Cost</th>\n",
              "      <th>Minimum_Order</th>\n",
              "      <th>Rating</th>\n",
              "      <th>Votes</th>\n",
              "      <th>Reviews</th>\n",
              "      <th>Delivery_Time</th>\n",
              "    </tr>\n",
              "  </thead>\n",
              "  <tbody>\n",
              "    <tr>\n",
              "      <th>count</th>\n",
              "      <td>11094</td>\n",
              "      <td>11094</td>\n",
              "      <td>11094</td>\n",
              "      <td>11094</td>\n",
              "      <td>11094</td>\n",
              "      <td>11094</td>\n",
              "      <td>11094</td>\n",
              "      <td>11094</td>\n",
              "      <td>11094</td>\n",
              "    </tr>\n",
              "    <tr>\n",
              "      <th>unique</th>\n",
              "      <td>7480</td>\n",
              "      <td>35</td>\n",
              "      <td>2179</td>\n",
              "      <td>26</td>\n",
              "      <td>18</td>\n",
              "      <td>33</td>\n",
              "      <td>1103</td>\n",
              "      <td>761</td>\n",
              "      <td>7</td>\n",
              "    </tr>\n",
              "    <tr>\n",
              "      <th>top</th>\n",
              "      <td>ID_7184</td>\n",
              "      <td>Mico Layout, Stage 2, BTM Layout,Bangalore</td>\n",
              "      <td>North Indian</td>\n",
              "      <td>₹200</td>\n",
              "      <td>₹50</td>\n",
              "      <td>-</td>\n",
              "      <td>-</td>\n",
              "      <td>-</td>\n",
              "      <td>30 minutes</td>\n",
              "    </tr>\n",
              "    <tr>\n",
              "      <th>freq</th>\n",
              "      <td>22</td>\n",
              "      <td>947</td>\n",
              "      <td>850</td>\n",
              "      <td>3241</td>\n",
              "      <td>10118</td>\n",
              "      <td>1191</td>\n",
              "      <td>2074</td>\n",
              "      <td>2312</td>\n",
              "      <td>7406</td>\n",
              "    </tr>\n",
              "  </tbody>\n",
              "</table>\n",
              "</div>"
            ],
            "text/plain": [
              "       Restaurant  ... Delivery_Time\n",
              "count       11094  ...         11094\n",
              "unique       7480  ...             7\n",
              "top       ID_7184  ...    30 minutes\n",
              "freq           22  ...          7406\n",
              "\n",
              "[4 rows x 9 columns]"
            ]
          },
          "metadata": {
            "tags": []
          },
          "execution_count": 4
        }
      ]
    },
    {
      "cell_type": "code",
      "metadata": {
        "id": "w1-_ndlVFbP9",
        "outputId": "ac902044-b146-4da3-ae78-d90bfa4de662",
        "colab": {
          "base_uri": "https://localhost:8080/"
        }
      },
      "source": [
        "data.shape"
      ],
      "execution_count": null,
      "outputs": [
        {
          "output_type": "execute_result",
          "data": {
            "text/plain": [
              "(11094, 9)"
            ]
          },
          "metadata": {
            "tags": []
          },
          "execution_count": 5
        }
      ]
    },
    {
      "cell_type": "code",
      "metadata": {
        "id": "-iMRcSYK_bbG"
      },
      "source": [
        "data[['Cuisine_1', 'Cuisine_2', 'Cuisine_3', 'Cuisine_4', 'Cuisine_5', 'Cuisine_6', 'Cuisine_7', 'Cuisine_8']] = np.nan"
      ],
      "execution_count": null,
      "outputs": []
    },
    {
      "cell_type": "code",
      "metadata": {
        "id": "uogiK1fW_bbO",
        "outputId": "ff569304-decc-49d9-8df7-e17625a931fa",
        "colab": {
          "base_uri": "https://localhost:8080/",
          "height": 499
        }
      },
      "source": [
        "data.head()"
      ],
      "execution_count": null,
      "outputs": [
        {
          "output_type": "execute_result",
          "data": {
            "text/html": [
              "<div>\n",
              "<style scoped>\n",
              "    .dataframe tbody tr th:only-of-type {\n",
              "        vertical-align: middle;\n",
              "    }\n",
              "\n",
              "    .dataframe tbody tr th {\n",
              "        vertical-align: top;\n",
              "    }\n",
              "\n",
              "    .dataframe thead th {\n",
              "        text-align: right;\n",
              "    }\n",
              "</style>\n",
              "<table border=\"1\" class=\"dataframe\">\n",
              "  <thead>\n",
              "    <tr style=\"text-align: right;\">\n",
              "      <th></th>\n",
              "      <th>Restaurant</th>\n",
              "      <th>Location</th>\n",
              "      <th>Cuisines</th>\n",
              "      <th>Average_Cost</th>\n",
              "      <th>Minimum_Order</th>\n",
              "      <th>Rating</th>\n",
              "      <th>Votes</th>\n",
              "      <th>Reviews</th>\n",
              "      <th>Delivery_Time</th>\n",
              "      <th>Cuisine_1</th>\n",
              "      <th>Cuisine_2</th>\n",
              "      <th>Cuisine_3</th>\n",
              "      <th>Cuisine_4</th>\n",
              "      <th>Cuisine_5</th>\n",
              "      <th>Cuisine_6</th>\n",
              "      <th>Cuisine_7</th>\n",
              "      <th>Cuisine_8</th>\n",
              "    </tr>\n",
              "  </thead>\n",
              "  <tbody>\n",
              "    <tr>\n",
              "      <th>0</th>\n",
              "      <td>ID_6321</td>\n",
              "      <td>FTI College, Law College Road, Pune</td>\n",
              "      <td>Fast Food, Rolls, Burger, Salad, Wraps</td>\n",
              "      <td>₹200</td>\n",
              "      <td>₹50</td>\n",
              "      <td>3.5</td>\n",
              "      <td>12</td>\n",
              "      <td>4</td>\n",
              "      <td>30 minutes</td>\n",
              "      <td>NaN</td>\n",
              "      <td>NaN</td>\n",
              "      <td>NaN</td>\n",
              "      <td>NaN</td>\n",
              "      <td>NaN</td>\n",
              "      <td>NaN</td>\n",
              "      <td>NaN</td>\n",
              "      <td>NaN</td>\n",
              "    </tr>\n",
              "    <tr>\n",
              "      <th>1</th>\n",
              "      <td>ID_2882</td>\n",
              "      <td>Sector 3, Marathalli</td>\n",
              "      <td>Ice Cream, Desserts</td>\n",
              "      <td>₹100</td>\n",
              "      <td>₹50</td>\n",
              "      <td>3.5</td>\n",
              "      <td>11</td>\n",
              "      <td>4</td>\n",
              "      <td>30 minutes</td>\n",
              "      <td>NaN</td>\n",
              "      <td>NaN</td>\n",
              "      <td>NaN</td>\n",
              "      <td>NaN</td>\n",
              "      <td>NaN</td>\n",
              "      <td>NaN</td>\n",
              "      <td>NaN</td>\n",
              "      <td>NaN</td>\n",
              "    </tr>\n",
              "    <tr>\n",
              "      <th>2</th>\n",
              "      <td>ID_1595</td>\n",
              "      <td>Mumbai Central</td>\n",
              "      <td>Italian, Street Food, Fast Food</td>\n",
              "      <td>₹150</td>\n",
              "      <td>₹50</td>\n",
              "      <td>3.6</td>\n",
              "      <td>99</td>\n",
              "      <td>30</td>\n",
              "      <td>65 minutes</td>\n",
              "      <td>NaN</td>\n",
              "      <td>NaN</td>\n",
              "      <td>NaN</td>\n",
              "      <td>NaN</td>\n",
              "      <td>NaN</td>\n",
              "      <td>NaN</td>\n",
              "      <td>NaN</td>\n",
              "      <td>NaN</td>\n",
              "    </tr>\n",
              "    <tr>\n",
              "      <th>3</th>\n",
              "      <td>ID_5929</td>\n",
              "      <td>Sector 1, Noida</td>\n",
              "      <td>Mughlai, North Indian, Chinese</td>\n",
              "      <td>₹250</td>\n",
              "      <td>₹99</td>\n",
              "      <td>3.7</td>\n",
              "      <td>176</td>\n",
              "      <td>95</td>\n",
              "      <td>30 minutes</td>\n",
              "      <td>NaN</td>\n",
              "      <td>NaN</td>\n",
              "      <td>NaN</td>\n",
              "      <td>NaN</td>\n",
              "      <td>NaN</td>\n",
              "      <td>NaN</td>\n",
              "      <td>NaN</td>\n",
              "      <td>NaN</td>\n",
              "    </tr>\n",
              "    <tr>\n",
              "      <th>4</th>\n",
              "      <td>ID_6123</td>\n",
              "      <td>Rmz Centennial, I Gate, Whitefield</td>\n",
              "      <td>Cafe, Beverages</td>\n",
              "      <td>₹200</td>\n",
              "      <td>₹99</td>\n",
              "      <td>3.2</td>\n",
              "      <td>521</td>\n",
              "      <td>235</td>\n",
              "      <td>65 minutes</td>\n",
              "      <td>NaN</td>\n",
              "      <td>NaN</td>\n",
              "      <td>NaN</td>\n",
              "      <td>NaN</td>\n",
              "      <td>NaN</td>\n",
              "      <td>NaN</td>\n",
              "      <td>NaN</td>\n",
              "      <td>NaN</td>\n",
              "    </tr>\n",
              "  </tbody>\n",
              "</table>\n",
              "</div>"
            ],
            "text/plain": [
              "  Restaurant                             Location  ... Cuisine_7 Cuisine_8\n",
              "0    ID_6321  FTI College, Law College Road, Pune  ...       NaN       NaN\n",
              "1    ID_2882                 Sector 3, Marathalli  ...       NaN       NaN\n",
              "2    ID_1595                       Mumbai Central  ...       NaN       NaN\n",
              "3    ID_5929                      Sector 1, Noida  ...       NaN       NaN\n",
              "4    ID_6123   Rmz Centennial, I Gate, Whitefield  ...       NaN       NaN\n",
              "\n",
              "[5 rows x 17 columns]"
            ]
          },
          "metadata": {
            "tags": []
          },
          "execution_count": 7
        }
      ]
    },
    {
      "cell_type": "code",
      "metadata": {
        "id": "dlrxNCBF_bbU"
      },
      "source": [
        "data[['Cuisine_1', 'Cuisine_2', 'Cuisine_3', 'Cuisine_4', 'Cuisine_5', 'Cuisine_6', 'Cuisine_7', 'Cuisine_8']] = data.Cuisines.str.split(', ',expand=True) "
      ],
      "execution_count": null,
      "outputs": []
    },
    {
      "cell_type": "code",
      "metadata": {
        "id": "orxPD5id_bbZ",
        "outputId": "6fd05c06-3505-4b5d-995f-8b8bf8543e0d",
        "colab": {
          "base_uri": "https://localhost:8080/",
          "height": 499
        }
      },
      "source": [
        "data.head()"
      ],
      "execution_count": null,
      "outputs": [
        {
          "output_type": "execute_result",
          "data": {
            "text/html": [
              "<div>\n",
              "<style scoped>\n",
              "    .dataframe tbody tr th:only-of-type {\n",
              "        vertical-align: middle;\n",
              "    }\n",
              "\n",
              "    .dataframe tbody tr th {\n",
              "        vertical-align: top;\n",
              "    }\n",
              "\n",
              "    .dataframe thead th {\n",
              "        text-align: right;\n",
              "    }\n",
              "</style>\n",
              "<table border=\"1\" class=\"dataframe\">\n",
              "  <thead>\n",
              "    <tr style=\"text-align: right;\">\n",
              "      <th></th>\n",
              "      <th>Restaurant</th>\n",
              "      <th>Location</th>\n",
              "      <th>Cuisines</th>\n",
              "      <th>Average_Cost</th>\n",
              "      <th>Minimum_Order</th>\n",
              "      <th>Rating</th>\n",
              "      <th>Votes</th>\n",
              "      <th>Reviews</th>\n",
              "      <th>Delivery_Time</th>\n",
              "      <th>Cuisine_1</th>\n",
              "      <th>Cuisine_2</th>\n",
              "      <th>Cuisine_3</th>\n",
              "      <th>Cuisine_4</th>\n",
              "      <th>Cuisine_5</th>\n",
              "      <th>Cuisine_6</th>\n",
              "      <th>Cuisine_7</th>\n",
              "      <th>Cuisine_8</th>\n",
              "    </tr>\n",
              "  </thead>\n",
              "  <tbody>\n",
              "    <tr>\n",
              "      <th>0</th>\n",
              "      <td>ID_6321</td>\n",
              "      <td>FTI College, Law College Road, Pune</td>\n",
              "      <td>Fast Food, Rolls, Burger, Salad, Wraps</td>\n",
              "      <td>₹200</td>\n",
              "      <td>₹50</td>\n",
              "      <td>3.5</td>\n",
              "      <td>12</td>\n",
              "      <td>4</td>\n",
              "      <td>30 minutes</td>\n",
              "      <td>Fast Food</td>\n",
              "      <td>Rolls</td>\n",
              "      <td>Burger</td>\n",
              "      <td>Salad</td>\n",
              "      <td>Wraps</td>\n",
              "      <td>None</td>\n",
              "      <td>None</td>\n",
              "      <td>None</td>\n",
              "    </tr>\n",
              "    <tr>\n",
              "      <th>1</th>\n",
              "      <td>ID_2882</td>\n",
              "      <td>Sector 3, Marathalli</td>\n",
              "      <td>Ice Cream, Desserts</td>\n",
              "      <td>₹100</td>\n",
              "      <td>₹50</td>\n",
              "      <td>3.5</td>\n",
              "      <td>11</td>\n",
              "      <td>4</td>\n",
              "      <td>30 minutes</td>\n",
              "      <td>Ice Cream</td>\n",
              "      <td>Desserts</td>\n",
              "      <td>None</td>\n",
              "      <td>None</td>\n",
              "      <td>None</td>\n",
              "      <td>None</td>\n",
              "      <td>None</td>\n",
              "      <td>None</td>\n",
              "    </tr>\n",
              "    <tr>\n",
              "      <th>2</th>\n",
              "      <td>ID_1595</td>\n",
              "      <td>Mumbai Central</td>\n",
              "      <td>Italian, Street Food, Fast Food</td>\n",
              "      <td>₹150</td>\n",
              "      <td>₹50</td>\n",
              "      <td>3.6</td>\n",
              "      <td>99</td>\n",
              "      <td>30</td>\n",
              "      <td>65 minutes</td>\n",
              "      <td>Italian</td>\n",
              "      <td>Street Food</td>\n",
              "      <td>Fast Food</td>\n",
              "      <td>None</td>\n",
              "      <td>None</td>\n",
              "      <td>None</td>\n",
              "      <td>None</td>\n",
              "      <td>None</td>\n",
              "    </tr>\n",
              "    <tr>\n",
              "      <th>3</th>\n",
              "      <td>ID_5929</td>\n",
              "      <td>Sector 1, Noida</td>\n",
              "      <td>Mughlai, North Indian, Chinese</td>\n",
              "      <td>₹250</td>\n",
              "      <td>₹99</td>\n",
              "      <td>3.7</td>\n",
              "      <td>176</td>\n",
              "      <td>95</td>\n",
              "      <td>30 minutes</td>\n",
              "      <td>Mughlai</td>\n",
              "      <td>North Indian</td>\n",
              "      <td>Chinese</td>\n",
              "      <td>None</td>\n",
              "      <td>None</td>\n",
              "      <td>None</td>\n",
              "      <td>None</td>\n",
              "      <td>None</td>\n",
              "    </tr>\n",
              "    <tr>\n",
              "      <th>4</th>\n",
              "      <td>ID_6123</td>\n",
              "      <td>Rmz Centennial, I Gate, Whitefield</td>\n",
              "      <td>Cafe, Beverages</td>\n",
              "      <td>₹200</td>\n",
              "      <td>₹99</td>\n",
              "      <td>3.2</td>\n",
              "      <td>521</td>\n",
              "      <td>235</td>\n",
              "      <td>65 minutes</td>\n",
              "      <td>Cafe</td>\n",
              "      <td>Beverages</td>\n",
              "      <td>None</td>\n",
              "      <td>None</td>\n",
              "      <td>None</td>\n",
              "      <td>None</td>\n",
              "      <td>None</td>\n",
              "      <td>None</td>\n",
              "    </tr>\n",
              "  </tbody>\n",
              "</table>\n",
              "</div>"
            ],
            "text/plain": [
              "  Restaurant                             Location  ... Cuisine_7 Cuisine_8\n",
              "0    ID_6321  FTI College, Law College Road, Pune  ...      None      None\n",
              "1    ID_2882                 Sector 3, Marathalli  ...      None      None\n",
              "2    ID_1595                       Mumbai Central  ...      None      None\n",
              "3    ID_5929                      Sector 1, Noida  ...      None      None\n",
              "4    ID_6123   Rmz Centennial, I Gate, Whitefield  ...      None      None\n",
              "\n",
              "[5 rows x 17 columns]"
            ]
          },
          "metadata": {
            "tags": []
          },
          "execution_count": 9
        }
      ]
    },
    {
      "cell_type": "code",
      "metadata": {
        "id": "PY6AWb63_bbf"
      },
      "source": [
        "data.drop(columns=['Cuisines'], axis=1, inplace=True)"
      ],
      "execution_count": null,
      "outputs": []
    },
    {
      "cell_type": "markdown",
      "metadata": {
        "id": "B4Wg0hh5_bbk"
      },
      "source": [
        "<h4>Label Encoding for Location variable for ML model"
      ]
    },
    {
      "cell_type": "code",
      "metadata": {
        "id": "_mQ-vQiKJWhd"
      },
      "source": [
        "location_dict = {}\n",
        "for i,location in zip(range(len(data['Location'].unique())), data['Location'].unique()):\n",
        "    location_dict[location] = i"
      ],
      "execution_count": null,
      "outputs": []
    },
    {
      "cell_type": "code",
      "metadata": {
        "id": "FHIKhsBF_bbr"
      },
      "source": [
        "data.replace(location_dict, inplace=True)"
      ],
      "execution_count": null,
      "outputs": []
    },
    {
      "cell_type": "markdown",
      "metadata": {
        "id": "sw6BIIpiXn5B"
      },
      "source": [
        "Label Encoding for Cuisine variables for ML model"
      ]
    },
    {
      "cell_type": "code",
      "metadata": {
        "id": "UDhpPngdJyIn"
      },
      "source": [
        "cuisine_dict = {}\n",
        "for i,cuisine in zip(range(len(data['Cuisine_1'].unique())), data['Cuisine_1'].unique()):\n",
        "    cuisine_dict[cuisine] = i\n",
        "data.replace(cuisine_dict, inplace=True)"
      ],
      "execution_count": null,
      "outputs": []
    },
    {
      "cell_type": "code",
      "metadata": {
        "id": "QzSpTukj_bb2"
      },
      "source": [
        "strs = list(set([elm for elm in data['Cuisine_2'] if isinstance(elm, str)]))"
      ],
      "execution_count": null,
      "outputs": []
    },
    {
      "cell_type": "code",
      "metadata": {
        "id": "3bam_JLl_bb7"
      },
      "source": [
        "for i,cuisine in zip(range(85, len(strs)+85), strs):\n",
        "    cuisine_dict[cuisine] = i\n",
        "data.replace(cuisine_dict, inplace=True)"
      ],
      "execution_count": null,
      "outputs": []
    },
    {
      "cell_type": "code",
      "metadata": {
        "id": "4yVtAW1lJv9Y"
      },
      "source": [
        "strs_3 = list(set([elm for elm in data['Cuisine_3'] if isinstance(elm, str)]))\n",
        "for i,cuisine in zip(range(94, len(strs_3)+94), strs_3):\n",
        "    cuisine_dict[cuisine] = i\n",
        "data.replace(cuisine_dict, inplace=True)"
      ],
      "execution_count": null,
      "outputs": []
    },
    {
      "cell_type": "code",
      "metadata": {
        "id": "HpqNS5DR_bcW",
        "outputId": "0f527d55-2914-4109-c0b8-184c869fa10c",
        "colab": {
          "base_uri": "https://localhost:8080/",
          "height": 222
        }
      },
      "source": [
        "strs_4 = ['Greek', 'Israeli','Poké', 'Sri Lankan']\n",
        "for i,cuisine in zip(range(97, len(strs_4)+97), strs_4):\n",
        "    cuisine_dict[cuisine] = i\n",
        "data.replace(cuisine_dict, inplace=True)\n",
        "data.fillna(-1, inplace=True)\n",
        "data.head()"
      ],
      "execution_count": null,
      "outputs": [
        {
          "output_type": "execute_result",
          "data": {
            "text/html": [
              "<div>\n",
              "<style scoped>\n",
              "    .dataframe tbody tr th:only-of-type {\n",
              "        vertical-align: middle;\n",
              "    }\n",
              "\n",
              "    .dataframe tbody tr th {\n",
              "        vertical-align: top;\n",
              "    }\n",
              "\n",
              "    .dataframe thead th {\n",
              "        text-align: right;\n",
              "    }\n",
              "</style>\n",
              "<table border=\"1\" class=\"dataframe\">\n",
              "  <thead>\n",
              "    <tr style=\"text-align: right;\">\n",
              "      <th></th>\n",
              "      <th>Restaurant</th>\n",
              "      <th>Location</th>\n",
              "      <th>Average_Cost</th>\n",
              "      <th>Minimum_Order</th>\n",
              "      <th>Rating</th>\n",
              "      <th>Votes</th>\n",
              "      <th>Reviews</th>\n",
              "      <th>Delivery_Time</th>\n",
              "      <th>Cuisine_1</th>\n",
              "      <th>Cuisine_2</th>\n",
              "      <th>Cuisine_3</th>\n",
              "      <th>Cuisine_4</th>\n",
              "      <th>Cuisine_5</th>\n",
              "      <th>Cuisine_6</th>\n",
              "      <th>Cuisine_7</th>\n",
              "      <th>Cuisine_8</th>\n",
              "    </tr>\n",
              "  </thead>\n",
              "  <tbody>\n",
              "    <tr>\n",
              "      <th>0</th>\n",
              "      <td>ID_6321</td>\n",
              "      <td>0</td>\n",
              "      <td>₹200</td>\n",
              "      <td>₹50</td>\n",
              "      <td>3.5</td>\n",
              "      <td>12</td>\n",
              "      <td>4</td>\n",
              "      <td>30 minutes</td>\n",
              "      <td>0</td>\n",
              "      <td>20.0</td>\n",
              "      <td>10.0</td>\n",
              "      <td>34.0</td>\n",
              "      <td>44.0</td>\n",
              "      <td>-1.0</td>\n",
              "      <td>-1.0</td>\n",
              "      <td>-1.0</td>\n",
              "    </tr>\n",
              "    <tr>\n",
              "      <th>1</th>\n",
              "      <td>ID_2882</td>\n",
              "      <td>1</td>\n",
              "      <td>₹100</td>\n",
              "      <td>₹50</td>\n",
              "      <td>3.5</td>\n",
              "      <td>11</td>\n",
              "      <td>4</td>\n",
              "      <td>30 minutes</td>\n",
              "      <td>1</td>\n",
              "      <td>13.0</td>\n",
              "      <td>-1.0</td>\n",
              "      <td>-1.0</td>\n",
              "      <td>-1.0</td>\n",
              "      <td>-1.0</td>\n",
              "      <td>-1.0</td>\n",
              "      <td>-1.0</td>\n",
              "    </tr>\n",
              "    <tr>\n",
              "      <th>2</th>\n",
              "      <td>ID_1595</td>\n",
              "      <td>2</td>\n",
              "      <td>₹150</td>\n",
              "      <td>₹50</td>\n",
              "      <td>3.6</td>\n",
              "      <td>99</td>\n",
              "      <td>30</td>\n",
              "      <td>65 minutes</td>\n",
              "      <td>2</td>\n",
              "      <td>16.0</td>\n",
              "      <td>0.0</td>\n",
              "      <td>-1.0</td>\n",
              "      <td>-1.0</td>\n",
              "      <td>-1.0</td>\n",
              "      <td>-1.0</td>\n",
              "      <td>-1.0</td>\n",
              "    </tr>\n",
              "    <tr>\n",
              "      <th>3</th>\n",
              "      <td>ID_5929</td>\n",
              "      <td>3</td>\n",
              "      <td>₹250</td>\n",
              "      <td>₹99</td>\n",
              "      <td>3.7</td>\n",
              "      <td>176</td>\n",
              "      <td>95</td>\n",
              "      <td>30 minutes</td>\n",
              "      <td>3</td>\n",
              "      <td>9.0</td>\n",
              "      <td>7.0</td>\n",
              "      <td>-1.0</td>\n",
              "      <td>-1.0</td>\n",
              "      <td>-1.0</td>\n",
              "      <td>-1.0</td>\n",
              "      <td>-1.0</td>\n",
              "    </tr>\n",
              "    <tr>\n",
              "      <th>4</th>\n",
              "      <td>ID_6123</td>\n",
              "      <td>4</td>\n",
              "      <td>₹200</td>\n",
              "      <td>₹99</td>\n",
              "      <td>3.2</td>\n",
              "      <td>521</td>\n",
              "      <td>235</td>\n",
              "      <td>65 minutes</td>\n",
              "      <td>4</td>\n",
              "      <td>6.0</td>\n",
              "      <td>-1.0</td>\n",
              "      <td>-1.0</td>\n",
              "      <td>-1.0</td>\n",
              "      <td>-1.0</td>\n",
              "      <td>-1.0</td>\n",
              "      <td>-1.0</td>\n",
              "    </tr>\n",
              "  </tbody>\n",
              "</table>\n",
              "</div>"
            ],
            "text/plain": [
              "  Restaurant  Location Average_Cost  ... Cuisine_6 Cuisine_7 Cuisine_8\n",
              "0    ID_6321         0         ₹200  ...      -1.0      -1.0      -1.0\n",
              "1    ID_2882         1         ₹100  ...      -1.0      -1.0      -1.0\n",
              "2    ID_1595         2         ₹150  ...      -1.0      -1.0      -1.0\n",
              "3    ID_5929         3         ₹250  ...      -1.0      -1.0      -1.0\n",
              "4    ID_6123         4         ₹200  ...      -1.0      -1.0      -1.0\n",
              "\n",
              "[5 rows x 16 columns]"
            ]
          },
          "metadata": {
            "tags": []
          },
          "execution_count": 17
        }
      ]
    },
    {
      "cell_type": "code",
      "metadata": {
        "id": "rkTNuV4xKJ_4",
        "outputId": "5dfb309f-61bc-49f1-913c-06cd4790e3db",
        "colab": {
          "base_uri": "https://localhost:8080/",
          "height": 294
        }
      },
      "source": [
        "data.describe()"
      ],
      "execution_count": null,
      "outputs": [
        {
          "output_type": "execute_result",
          "data": {
            "text/html": [
              "<div>\n",
              "<style scoped>\n",
              "    .dataframe tbody tr th:only-of-type {\n",
              "        vertical-align: middle;\n",
              "    }\n",
              "\n",
              "    .dataframe tbody tr th {\n",
              "        vertical-align: top;\n",
              "    }\n",
              "\n",
              "    .dataframe thead th {\n",
              "        text-align: right;\n",
              "    }\n",
              "</style>\n",
              "<table border=\"1\" class=\"dataframe\">\n",
              "  <thead>\n",
              "    <tr style=\"text-align: right;\">\n",
              "      <th></th>\n",
              "      <th>Location</th>\n",
              "      <th>Cuisine_1</th>\n",
              "      <th>Cuisine_2</th>\n",
              "      <th>Cuisine_3</th>\n",
              "      <th>Cuisine_4</th>\n",
              "      <th>Cuisine_5</th>\n",
              "      <th>Cuisine_6</th>\n",
              "      <th>Cuisine_7</th>\n",
              "      <th>Cuisine_8</th>\n",
              "    </tr>\n",
              "  </thead>\n",
              "  <tbody>\n",
              "    <tr>\n",
              "      <th>count</th>\n",
              "      <td>11094.000000</td>\n",
              "      <td>11094.000000</td>\n",
              "      <td>11094.000000</td>\n",
              "      <td>11094.000000</td>\n",
              "      <td>11094.000000</td>\n",
              "      <td>11094.00000</td>\n",
              "      <td>11094.000000</td>\n",
              "      <td>11094.000000</td>\n",
              "      <td>11094.000000</td>\n",
              "    </tr>\n",
              "    <tr>\n",
              "      <th>mean</th>\n",
              "      <td>12.654318</td>\n",
              "      <td>11.453398</td>\n",
              "      <td>8.530918</td>\n",
              "      <td>4.738597</td>\n",
              "      <td>1.902470</td>\n",
              "      <td>0.24671</td>\n",
              "      <td>-0.490896</td>\n",
              "      <td>-0.780332</td>\n",
              "      <td>-0.940058</td>\n",
              "    </tr>\n",
              "    <tr>\n",
              "      <th>std</th>\n",
              "      <td>8.725133</td>\n",
              "      <td>11.452147</td>\n",
              "      <td>13.795694</td>\n",
              "      <td>12.724940</td>\n",
              "      <td>9.951512</td>\n",
              "      <td>6.75014</td>\n",
              "      <td>4.828610</td>\n",
              "      <td>3.160619</td>\n",
              "      <td>1.155499</td>\n",
              "    </tr>\n",
              "    <tr>\n",
              "      <th>min</th>\n",
              "      <td>0.000000</td>\n",
              "      <td>0.000000</td>\n",
              "      <td>-1.000000</td>\n",
              "      <td>-1.000000</td>\n",
              "      <td>-1.000000</td>\n",
              "      <td>-1.00000</td>\n",
              "      <td>-1.000000</td>\n",
              "      <td>-1.000000</td>\n",
              "      <td>-1.000000</td>\n",
              "    </tr>\n",
              "    <tr>\n",
              "      <th>25%</th>\n",
              "      <td>5.000000</td>\n",
              "      <td>6.000000</td>\n",
              "      <td>-1.000000</td>\n",
              "      <td>-1.000000</td>\n",
              "      <td>-1.000000</td>\n",
              "      <td>-1.00000</td>\n",
              "      <td>-1.000000</td>\n",
              "      <td>-1.000000</td>\n",
              "      <td>-1.000000</td>\n",
              "    </tr>\n",
              "    <tr>\n",
              "      <th>50%</th>\n",
              "      <td>12.000000</td>\n",
              "      <td>9.000000</td>\n",
              "      <td>6.000000</td>\n",
              "      <td>-1.000000</td>\n",
              "      <td>-1.000000</td>\n",
              "      <td>-1.00000</td>\n",
              "      <td>-1.000000</td>\n",
              "      <td>-1.000000</td>\n",
              "      <td>-1.000000</td>\n",
              "    </tr>\n",
              "    <tr>\n",
              "      <th>75%</th>\n",
              "      <td>18.000000</td>\n",
              "      <td>13.000000</td>\n",
              "      <td>9.000000</td>\n",
              "      <td>6.000000</td>\n",
              "      <td>-1.000000</td>\n",
              "      <td>-1.00000</td>\n",
              "      <td>-1.000000</td>\n",
              "      <td>-1.000000</td>\n",
              "      <td>-1.000000</td>\n",
              "    </tr>\n",
              "    <tr>\n",
              "      <th>max</th>\n",
              "      <td>34.000000</td>\n",
              "      <td>84.000000</td>\n",
              "      <td>93.000000</td>\n",
              "      <td>96.000000</td>\n",
              "      <td>99.000000</td>\n",
              "      <td>98.00000</td>\n",
              "      <td>100.000000</td>\n",
              "      <td>88.000000</td>\n",
              "      <td>51.000000</td>\n",
              "    </tr>\n",
              "  </tbody>\n",
              "</table>\n",
              "</div>"
            ],
            "text/plain": [
              "           Location     Cuisine_1  ...     Cuisine_7     Cuisine_8\n",
              "count  11094.000000  11094.000000  ...  11094.000000  11094.000000\n",
              "mean      12.654318     11.453398  ...     -0.780332     -0.940058\n",
              "std        8.725133     11.452147  ...      3.160619      1.155499\n",
              "min        0.000000      0.000000  ...     -1.000000     -1.000000\n",
              "25%        5.000000      6.000000  ...     -1.000000     -1.000000\n",
              "50%       12.000000      9.000000  ...     -1.000000     -1.000000\n",
              "75%       18.000000     13.000000  ...     -1.000000     -1.000000\n",
              "max       34.000000     84.000000  ...     88.000000     51.000000\n",
              "\n",
              "[8 rows x 9 columns]"
            ]
          },
          "metadata": {
            "tags": []
          },
          "execution_count": 18
        }
      ]
    },
    {
      "cell_type": "code",
      "metadata": {
        "id": "RwVsH-inKktl",
        "outputId": "b0dd67c6-1ff2-4efa-b5ff-683db3dcc086",
        "colab": {
          "base_uri": "https://localhost:8080/"
        }
      },
      "source": [
        "data.info()"
      ],
      "execution_count": null,
      "outputs": [
        {
          "output_type": "stream",
          "text": [
            "<class 'pandas.core.frame.DataFrame'>\n",
            "RangeIndex: 11094 entries, 0 to 11093\n",
            "Data columns (total 16 columns):\n",
            " #   Column         Non-Null Count  Dtype  \n",
            "---  ------         --------------  -----  \n",
            " 0   Restaurant     11094 non-null  object \n",
            " 1   Location       11094 non-null  int64  \n",
            " 2   Average_Cost   11094 non-null  object \n",
            " 3   Minimum_Order  11094 non-null  object \n",
            " 4   Rating         11094 non-null  object \n",
            " 5   Votes          11094 non-null  object \n",
            " 6   Reviews        11094 non-null  object \n",
            " 7   Delivery_Time  11094 non-null  object \n",
            " 8   Cuisine_1      11094 non-null  int64  \n",
            " 9   Cuisine_2      11094 non-null  float64\n",
            " 10  Cuisine_3      11094 non-null  float64\n",
            " 11  Cuisine_4      11094 non-null  float64\n",
            " 12  Cuisine_5      11094 non-null  float64\n",
            " 13  Cuisine_6      11094 non-null  float64\n",
            " 14  Cuisine_7      11094 non-null  float64\n",
            " 15  Cuisine_8      11094 non-null  float64\n",
            "dtypes: float64(7), int64(2), object(7)\n",
            "memory usage: 1.4+ MB\n"
          ],
          "name": "stdout"
        }
      ]
    },
    {
      "cell_type": "markdown",
      "metadata": {
        "id": "j88QFsx1_bcn"
      },
      "source": [
        "<h3>Removing 'minutes' in Delivery Time column"
      ]
    },
    {
      "cell_type": "code",
      "metadata": {
        "id": "HNrfzSbbK1r6"
      },
      "source": [
        "data['Delivery_Time'] = data['Delivery_Time'].str.replace(r'\\D', '').astype(int)"
      ],
      "execution_count": null,
      "outputs": []
    },
    {
      "cell_type": "code",
      "metadata": {
        "id": "ngEDNlndMAC6",
        "outputId": "9a73d51d-3fa2-47f2-d581-411374abbc81",
        "colab": {
          "base_uri": "https://localhost:8080/",
          "height": 222
        }
      },
      "source": [
        "data.head()"
      ],
      "execution_count": null,
      "outputs": [
        {
          "output_type": "execute_result",
          "data": {
            "text/html": [
              "<div>\n",
              "<style scoped>\n",
              "    .dataframe tbody tr th:only-of-type {\n",
              "        vertical-align: middle;\n",
              "    }\n",
              "\n",
              "    .dataframe tbody tr th {\n",
              "        vertical-align: top;\n",
              "    }\n",
              "\n",
              "    .dataframe thead th {\n",
              "        text-align: right;\n",
              "    }\n",
              "</style>\n",
              "<table border=\"1\" class=\"dataframe\">\n",
              "  <thead>\n",
              "    <tr style=\"text-align: right;\">\n",
              "      <th></th>\n",
              "      <th>Restaurant</th>\n",
              "      <th>Location</th>\n",
              "      <th>Average_Cost</th>\n",
              "      <th>Minimum_Order</th>\n",
              "      <th>Rating</th>\n",
              "      <th>Votes</th>\n",
              "      <th>Reviews</th>\n",
              "      <th>Delivery_Time</th>\n",
              "      <th>Cuisine_1</th>\n",
              "      <th>Cuisine_2</th>\n",
              "      <th>Cuisine_3</th>\n",
              "      <th>Cuisine_4</th>\n",
              "      <th>Cuisine_5</th>\n",
              "      <th>Cuisine_6</th>\n",
              "      <th>Cuisine_7</th>\n",
              "      <th>Cuisine_8</th>\n",
              "    </tr>\n",
              "  </thead>\n",
              "  <tbody>\n",
              "    <tr>\n",
              "      <th>0</th>\n",
              "      <td>ID_6321</td>\n",
              "      <td>0</td>\n",
              "      <td>₹200</td>\n",
              "      <td>₹50</td>\n",
              "      <td>3.5</td>\n",
              "      <td>12</td>\n",
              "      <td>4</td>\n",
              "      <td>30</td>\n",
              "      <td>0</td>\n",
              "      <td>20.0</td>\n",
              "      <td>10.0</td>\n",
              "      <td>34.0</td>\n",
              "      <td>44.0</td>\n",
              "      <td>-1.0</td>\n",
              "      <td>-1.0</td>\n",
              "      <td>-1.0</td>\n",
              "    </tr>\n",
              "    <tr>\n",
              "      <th>1</th>\n",
              "      <td>ID_2882</td>\n",
              "      <td>1</td>\n",
              "      <td>₹100</td>\n",
              "      <td>₹50</td>\n",
              "      <td>3.5</td>\n",
              "      <td>11</td>\n",
              "      <td>4</td>\n",
              "      <td>30</td>\n",
              "      <td>1</td>\n",
              "      <td>13.0</td>\n",
              "      <td>-1.0</td>\n",
              "      <td>-1.0</td>\n",
              "      <td>-1.0</td>\n",
              "      <td>-1.0</td>\n",
              "      <td>-1.0</td>\n",
              "      <td>-1.0</td>\n",
              "    </tr>\n",
              "    <tr>\n",
              "      <th>2</th>\n",
              "      <td>ID_1595</td>\n",
              "      <td>2</td>\n",
              "      <td>₹150</td>\n",
              "      <td>₹50</td>\n",
              "      <td>3.6</td>\n",
              "      <td>99</td>\n",
              "      <td>30</td>\n",
              "      <td>65</td>\n",
              "      <td>2</td>\n",
              "      <td>16.0</td>\n",
              "      <td>0.0</td>\n",
              "      <td>-1.0</td>\n",
              "      <td>-1.0</td>\n",
              "      <td>-1.0</td>\n",
              "      <td>-1.0</td>\n",
              "      <td>-1.0</td>\n",
              "    </tr>\n",
              "    <tr>\n",
              "      <th>3</th>\n",
              "      <td>ID_5929</td>\n",
              "      <td>3</td>\n",
              "      <td>₹250</td>\n",
              "      <td>₹99</td>\n",
              "      <td>3.7</td>\n",
              "      <td>176</td>\n",
              "      <td>95</td>\n",
              "      <td>30</td>\n",
              "      <td>3</td>\n",
              "      <td>9.0</td>\n",
              "      <td>7.0</td>\n",
              "      <td>-1.0</td>\n",
              "      <td>-1.0</td>\n",
              "      <td>-1.0</td>\n",
              "      <td>-1.0</td>\n",
              "      <td>-1.0</td>\n",
              "    </tr>\n",
              "    <tr>\n",
              "      <th>4</th>\n",
              "      <td>ID_6123</td>\n",
              "      <td>4</td>\n",
              "      <td>₹200</td>\n",
              "      <td>₹99</td>\n",
              "      <td>3.2</td>\n",
              "      <td>521</td>\n",
              "      <td>235</td>\n",
              "      <td>65</td>\n",
              "      <td>4</td>\n",
              "      <td>6.0</td>\n",
              "      <td>-1.0</td>\n",
              "      <td>-1.0</td>\n",
              "      <td>-1.0</td>\n",
              "      <td>-1.0</td>\n",
              "      <td>-1.0</td>\n",
              "      <td>-1.0</td>\n",
              "    </tr>\n",
              "  </tbody>\n",
              "</table>\n",
              "</div>"
            ],
            "text/plain": [
              "  Restaurant  Location Average_Cost  ... Cuisine_6 Cuisine_7 Cuisine_8\n",
              "0    ID_6321         0         ₹200  ...      -1.0      -1.0      -1.0\n",
              "1    ID_2882         1         ₹100  ...      -1.0      -1.0      -1.0\n",
              "2    ID_1595         2         ₹150  ...      -1.0      -1.0      -1.0\n",
              "3    ID_5929         3         ₹250  ...      -1.0      -1.0      -1.0\n",
              "4    ID_6123         4         ₹200  ...      -1.0      -1.0      -1.0\n",
              "\n",
              "[5 rows x 16 columns]"
            ]
          },
          "metadata": {
            "tags": []
          },
          "execution_count": 21
        }
      ]
    },
    {
      "cell_type": "markdown",
      "metadata": {
        "id": "G2FVEP7s_bc0"
      },
      "source": [
        "<h3>Removing rupees symbol in cost variables"
      ]
    },
    {
      "cell_type": "code",
      "metadata": {
        "id": "R8Ird8yhMEj4"
      },
      "source": [
        "data['Average_Cost'] = data['Average_Cost'].str.replace(r'\\D', '')\n",
        "data['Minimum_Order'] = data['Minimum_Order'].str.replace(r'\\D', '')"
      ],
      "execution_count": null,
      "outputs": []
    },
    {
      "cell_type": "code",
      "metadata": {
        "id": "bLRXyml1MXXu",
        "outputId": "0a8d85ef-6362-415e-fa46-dbda7ded6844",
        "colab": {
          "base_uri": "https://localhost:8080/",
          "height": 222
        }
      },
      "source": [
        "data.head()"
      ],
      "execution_count": null,
      "outputs": [
        {
          "output_type": "execute_result",
          "data": {
            "text/html": [
              "<div>\n",
              "<style scoped>\n",
              "    .dataframe tbody tr th:only-of-type {\n",
              "        vertical-align: middle;\n",
              "    }\n",
              "\n",
              "    .dataframe tbody tr th {\n",
              "        vertical-align: top;\n",
              "    }\n",
              "\n",
              "    .dataframe thead th {\n",
              "        text-align: right;\n",
              "    }\n",
              "</style>\n",
              "<table border=\"1\" class=\"dataframe\">\n",
              "  <thead>\n",
              "    <tr style=\"text-align: right;\">\n",
              "      <th></th>\n",
              "      <th>Restaurant</th>\n",
              "      <th>Location</th>\n",
              "      <th>Average_Cost</th>\n",
              "      <th>Minimum_Order</th>\n",
              "      <th>Rating</th>\n",
              "      <th>Votes</th>\n",
              "      <th>Reviews</th>\n",
              "      <th>Delivery_Time</th>\n",
              "      <th>Cuisine_1</th>\n",
              "      <th>Cuisine_2</th>\n",
              "      <th>Cuisine_3</th>\n",
              "      <th>Cuisine_4</th>\n",
              "      <th>Cuisine_5</th>\n",
              "      <th>Cuisine_6</th>\n",
              "      <th>Cuisine_7</th>\n",
              "      <th>Cuisine_8</th>\n",
              "    </tr>\n",
              "  </thead>\n",
              "  <tbody>\n",
              "    <tr>\n",
              "      <th>0</th>\n",
              "      <td>ID_6321</td>\n",
              "      <td>0</td>\n",
              "      <td>200</td>\n",
              "      <td>50</td>\n",
              "      <td>3.5</td>\n",
              "      <td>12</td>\n",
              "      <td>4</td>\n",
              "      <td>30</td>\n",
              "      <td>0</td>\n",
              "      <td>20.0</td>\n",
              "      <td>10.0</td>\n",
              "      <td>34.0</td>\n",
              "      <td>44.0</td>\n",
              "      <td>-1.0</td>\n",
              "      <td>-1.0</td>\n",
              "      <td>-1.0</td>\n",
              "    </tr>\n",
              "    <tr>\n",
              "      <th>1</th>\n",
              "      <td>ID_2882</td>\n",
              "      <td>1</td>\n",
              "      <td>100</td>\n",
              "      <td>50</td>\n",
              "      <td>3.5</td>\n",
              "      <td>11</td>\n",
              "      <td>4</td>\n",
              "      <td>30</td>\n",
              "      <td>1</td>\n",
              "      <td>13.0</td>\n",
              "      <td>-1.0</td>\n",
              "      <td>-1.0</td>\n",
              "      <td>-1.0</td>\n",
              "      <td>-1.0</td>\n",
              "      <td>-1.0</td>\n",
              "      <td>-1.0</td>\n",
              "    </tr>\n",
              "    <tr>\n",
              "      <th>2</th>\n",
              "      <td>ID_1595</td>\n",
              "      <td>2</td>\n",
              "      <td>150</td>\n",
              "      <td>50</td>\n",
              "      <td>3.6</td>\n",
              "      <td>99</td>\n",
              "      <td>30</td>\n",
              "      <td>65</td>\n",
              "      <td>2</td>\n",
              "      <td>16.0</td>\n",
              "      <td>0.0</td>\n",
              "      <td>-1.0</td>\n",
              "      <td>-1.0</td>\n",
              "      <td>-1.0</td>\n",
              "      <td>-1.0</td>\n",
              "      <td>-1.0</td>\n",
              "    </tr>\n",
              "    <tr>\n",
              "      <th>3</th>\n",
              "      <td>ID_5929</td>\n",
              "      <td>3</td>\n",
              "      <td>250</td>\n",
              "      <td>99</td>\n",
              "      <td>3.7</td>\n",
              "      <td>176</td>\n",
              "      <td>95</td>\n",
              "      <td>30</td>\n",
              "      <td>3</td>\n",
              "      <td>9.0</td>\n",
              "      <td>7.0</td>\n",
              "      <td>-1.0</td>\n",
              "      <td>-1.0</td>\n",
              "      <td>-1.0</td>\n",
              "      <td>-1.0</td>\n",
              "      <td>-1.0</td>\n",
              "    </tr>\n",
              "    <tr>\n",
              "      <th>4</th>\n",
              "      <td>ID_6123</td>\n",
              "      <td>4</td>\n",
              "      <td>200</td>\n",
              "      <td>99</td>\n",
              "      <td>3.2</td>\n",
              "      <td>521</td>\n",
              "      <td>235</td>\n",
              "      <td>65</td>\n",
              "      <td>4</td>\n",
              "      <td>6.0</td>\n",
              "      <td>-1.0</td>\n",
              "      <td>-1.0</td>\n",
              "      <td>-1.0</td>\n",
              "      <td>-1.0</td>\n",
              "      <td>-1.0</td>\n",
              "      <td>-1.0</td>\n",
              "    </tr>\n",
              "  </tbody>\n",
              "</table>\n",
              "</div>"
            ],
            "text/plain": [
              "  Restaurant  Location Average_Cost  ... Cuisine_6 Cuisine_7 Cuisine_8\n",
              "0    ID_6321         0          200  ...      -1.0      -1.0      -1.0\n",
              "1    ID_2882         1          100  ...      -1.0      -1.0      -1.0\n",
              "2    ID_1595         2          150  ...      -1.0      -1.0      -1.0\n",
              "3    ID_5929         3          250  ...      -1.0      -1.0      -1.0\n",
              "4    ID_6123         4          200  ...      -1.0      -1.0      -1.0\n",
              "\n",
              "[5 rows x 16 columns]"
            ]
          },
          "metadata": {
            "tags": []
          },
          "execution_count": 23
        }
      ]
    },
    {
      "cell_type": "markdown",
      "metadata": {
        "id": "x4Kh_PIB_bdA"
      },
      "source": [
        "<h3>Plotting Graphs"
      ]
    },
    {
      "cell_type": "code",
      "metadata": {
        "id": "p_Xqy2IlM1_n"
      },
      "source": [
        "import matplotlib.pyplot as plt"
      ],
      "execution_count": null,
      "outputs": []
    },
    {
      "cell_type": "code",
      "metadata": {
        "id": "PZYwvo6ijiPq",
        "outputId": "9cf0b630-f894-4680-c318-c7fbe64c87aa",
        "colab": {
          "base_uri": "https://localhost:8080/",
          "height": 283
        }
      },
      "source": [
        "plt.scatter(data['Cuisine_1'],data['Delivery_Time'])"
      ],
      "execution_count": null,
      "outputs": [
        {
          "output_type": "execute_result",
          "data": {
            "text/plain": [
              "<matplotlib.collections.PathCollection at 0x7f03c6a3a208>"
            ]
          },
          "metadata": {
            "tags": []
          },
          "execution_count": 25
        },
        {
          "output_type": "display_data",
          "data": {
            "image/png": "[encoded data removed]",
            "text/plain": [
              "<Figure size 432x288 with 1 Axes>"
            ]
          },
          "metadata": {
            "tags": [],
            "needs_background": "light"
          }
        }
      ]
    },
    {
      "cell_type": "code",
      "metadata": {
        "id": "b_vJpX97_bdM",
        "outputId": "4c79755b-f9cc-46d5-beb9-adcaa83ff8c1",
        "colab": {
          "base_uri": "https://localhost:8080/",
          "height": 283
        }
      },
      "source": [
        "plt.scatter(data['Location'],data['Delivery_Time'])"
      ],
      "execution_count": null,
      "outputs": [
        {
          "output_type": "execute_result",
          "data": {
            "text/plain": [
              "<matplotlib.collections.PathCollection at 0x7f03c52d02b0>"
            ]
          },
          "metadata": {
            "tags": []
          },
          "execution_count": 26
        },
        {
          "output_type": "display_data",
          "data": {
            "image/png": "[encoded data removed]",
            "text/plain": [
              "<Figure size 432x288 with 1 Axes>"
            ]
          },
          "metadata": {
            "tags": [],
            "needs_background": "light"
          }
        }
      ]
    },
    {
      "cell_type": "code",
      "metadata": {
        "id": "2VjBm0Li_bdS",
        "outputId": "cc267b01-d604-4765-ad36-4935eb52887d",
        "colab": {
          "base_uri": "https://localhost:8080/",
          "height": 283
        }
      },
      "source": [
        "plt.scatter(data['Average_Cost'],data['Delivery_Time'])"
      ],
      "execution_count": null,
      "outputs": [
        {
          "output_type": "execute_result",
          "data": {
            "text/plain": [
              "<matplotlib.collections.PathCollection at 0x7f03c529a710>"
            ]
          },
          "metadata": {
            "tags": []
          },
          "execution_count": 27
        },
        {
          "output_type": "display_data",
          "data": {
            "image/png": "[encoded data removed]",
            "text/plain": [
              "<Figure size 432x288 with 1 Axes>"
            ]
          },
          "metadata": {
            "tags": [],
            "needs_background": "light"
          }
        }
      ]
    },
    {
      "cell_type": "code",
      "metadata": {
        "id": "ytdETz7T_bdX",
        "outputId": "5bd022f9-5ced-44b5-ad24-1fea4a08af01",
        "colab": {
          "base_uri": "https://localhost:8080/",
          "height": 283
        }
      },
      "source": [
        "plt.scatter(data['Minimum_Order'],data['Delivery_Time'])"
      ],
      "execution_count": null,
      "outputs": [
        {
          "output_type": "execute_result",
          "data": {
            "text/plain": [
              "<matplotlib.collections.PathCollection at 0x7f03c5209cc0>"
            ]
          },
          "metadata": {
            "tags": []
          },
          "execution_count": 28
        },
        {
          "output_type": "display_data",
          "data": {
            "image/png": "[encoded data removed]",
            "text/plain": [
              "<Figure size 432x288 with 1 Axes>"
            ]
          },
          "metadata": {
            "tags": [],
            "needs_background": "light"
          }
        }
      ]
    },
    {
      "cell_type": "code",
      "metadata": {
        "id": "sQCUk65yduKs"
      },
      "source": [
        "data = data.sample(frac=1).reset_index(drop=True)"
      ],
      "execution_count": null,
      "outputs": []
    },
    {
      "cell_type": "code",
      "metadata": {
        "id": "uq1IerQdeqPJ"
      },
      "source": [
        "data.to_csv(\"new_data.csv\", index=False)"
      ],
      "execution_count": null,
      "outputs": []
    },
    {
      "cell_type": "code",
      "metadata": {
        "id": "rBq9Ujjie6NI"
      },
      "source": [
        "new_data = pd.read_csv('new_data.csv')"
      ],
      "execution_count": null,
      "outputs": []
    },
    {
      "cell_type": "code",
      "metadata": {
        "id": "mz5aRExyf5pL",
        "outputId": "daa70dc2-cccc-459e-c2df-9e13dd97b786",
        "colab": {
          "base_uri": "https://localhost:8080/",
          "height": 222
        }
      },
      "source": [
        "new_data.head()"
      ],
      "execution_count": null,
      "outputs": [
        {
          "output_type": "execute_result",
          "data": {
            "text/html": [
              "<div>\n",
              "<style scoped>\n",
              "    .dataframe tbody tr th:only-of-type {\n",
              "        vertical-align: middle;\n",
              "    }\n",
              "\n",
              "    .dataframe tbody tr th {\n",
              "        vertical-align: top;\n",
              "    }\n",
              "\n",
              "    .dataframe thead th {\n",
              "        text-align: right;\n",
              "    }\n",
              "</style>\n",
              "<table border=\"1\" class=\"dataframe\">\n",
              "  <thead>\n",
              "    <tr style=\"text-align: right;\">\n",
              "      <th></th>\n",
              "      <th>Restaurant</th>\n",
              "      <th>Location</th>\n",
              "      <th>Average_Cost</th>\n",
              "      <th>Minimum_Order</th>\n",
              "      <th>Rating</th>\n",
              "      <th>Votes</th>\n",
              "      <th>Reviews</th>\n",
              "      <th>Delivery_Time</th>\n",
              "      <th>Cuisine_1</th>\n",
              "      <th>Cuisine_2</th>\n",
              "      <th>Cuisine_3</th>\n",
              "      <th>Cuisine_4</th>\n",
              "      <th>Cuisine_5</th>\n",
              "      <th>Cuisine_6</th>\n",
              "      <th>Cuisine_7</th>\n",
              "      <th>Cuisine_8</th>\n",
              "    </tr>\n",
              "  </thead>\n",
              "  <tbody>\n",
              "    <tr>\n",
              "      <th>0</th>\n",
              "      <td>ID_2728</td>\n",
              "      <td>7</td>\n",
              "      <td>200.0</td>\n",
              "      <td>50</td>\n",
              "      <td>3.1</td>\n",
              "      <td>7</td>\n",
              "      <td>-</td>\n",
              "      <td>30</td>\n",
              "      <td>9</td>\n",
              "      <td>7.0</td>\n",
              "      <td>-1.0</td>\n",
              "      <td>-1.0</td>\n",
              "      <td>-1.0</td>\n",
              "      <td>-1.0</td>\n",
              "      <td>-1.0</td>\n",
              "      <td>-1.0</td>\n",
              "    </tr>\n",
              "    <tr>\n",
              "      <th>1</th>\n",
              "      <td>ID_8353</td>\n",
              "      <td>6</td>\n",
              "      <td>250.0</td>\n",
              "      <td>99</td>\n",
              "      <td>4.0</td>\n",
              "      <td>498</td>\n",
              "      <td>272</td>\n",
              "      <td>45</td>\n",
              "      <td>4</td>\n",
              "      <td>34.0</td>\n",
              "      <td>11.0</td>\n",
              "      <td>7.0</td>\n",
              "      <td>25.0</td>\n",
              "      <td>2.0</td>\n",
              "      <td>13.0</td>\n",
              "      <td>17.0</td>\n",
              "    </tr>\n",
              "    <tr>\n",
              "      <th>2</th>\n",
              "      <td>ID_6937</td>\n",
              "      <td>15</td>\n",
              "      <td>200.0</td>\n",
              "      <td>50</td>\n",
              "      <td>-</td>\n",
              "      <td>-</td>\n",
              "      <td>-</td>\n",
              "      <td>45</td>\n",
              "      <td>9</td>\n",
              "      <td>7.0</td>\n",
              "      <td>0.0</td>\n",
              "      <td>-1.0</td>\n",
              "      <td>-1.0</td>\n",
              "      <td>-1.0</td>\n",
              "      <td>-1.0</td>\n",
              "      <td>-1.0</td>\n",
              "    </tr>\n",
              "    <tr>\n",
              "      <th>3</th>\n",
              "      <td>ID_6721</td>\n",
              "      <td>7</td>\n",
              "      <td>150.0</td>\n",
              "      <td>50</td>\n",
              "      <td>NEW</td>\n",
              "      <td>-</td>\n",
              "      <td>-</td>\n",
              "      <td>30</td>\n",
              "      <td>9</td>\n",
              "      <td>-1.0</td>\n",
              "      <td>-1.0</td>\n",
              "      <td>-1.0</td>\n",
              "      <td>-1.0</td>\n",
              "      <td>-1.0</td>\n",
              "      <td>-1.0</td>\n",
              "      <td>-1.0</td>\n",
              "    </tr>\n",
              "    <tr>\n",
              "      <th>4</th>\n",
              "      <td>ID_8087</td>\n",
              "      <td>14</td>\n",
              "      <td>600.0</td>\n",
              "      <td>99</td>\n",
              "      <td>4.2</td>\n",
              "      <td>3782</td>\n",
              "      <td>1948</td>\n",
              "      <td>30</td>\n",
              "      <td>7</td>\n",
              "      <td>50.0</td>\n",
              "      <td>15.0</td>\n",
              "      <td>69.0</td>\n",
              "      <td>84.0</td>\n",
              "      <td>100.0</td>\n",
              "      <td>88.0</td>\n",
              "      <td>-1.0</td>\n",
              "    </tr>\n",
              "  </tbody>\n",
              "</table>\n",
              "</div>"
            ],
            "text/plain": [
              "  Restaurant  Location  Average_Cost  ...  Cuisine_6 Cuisine_7 Cuisine_8\n",
              "0    ID_2728         7         200.0  ...       -1.0      -1.0      -1.0\n",
              "1    ID_8353         6         250.0  ...        2.0      13.0      17.0\n",
              "2    ID_6937        15         200.0  ...       -1.0      -1.0      -1.0\n",
              "3    ID_6721         7         150.0  ...       -1.0      -1.0      -1.0\n",
              "4    ID_8087        14         600.0  ...      100.0      88.0      -1.0\n",
              "\n",
              "[5 rows x 16 columns]"
            ]
          },
          "metadata": {
            "tags": []
          },
          "execution_count": 32
        }
      ]
    },
    {
      "cell_type": "code",
      "metadata": {
        "id": "ReyCkx-H_bdw"
      },
      "source": [
        "new_data['Average_Cost'].fillna(0,inplace=True)\n",
        "new_data['Average_Cost'].replace(0, sum(new_data['Average_Cost'])/len(new_data['Average_Cost']), inplace=True)"
      ],
      "execution_count": null,
      "outputs": []
    },
    {
      "cell_type": "markdown",
      "metadata": {
        "id": "WagjoCei_bdz"
      },
      "source": [
        "<h3>Linear Regression for predicting delivery time"
      ]
    },
    {
      "cell_type": "code",
      "metadata": {
        "id": "ODCtsPjf_bd0",
        "outputId": "a167a49b-00b6-49a9-ad1a-b8ea2bde9175",
        "colab": {
          "base_uri": "https://localhost:8080/"
        }
      },
      "source": [
        "#Importing the libraries\n",
        "from sklearn.linear_model import LinearRegression\n",
        "from sklearn.model_selection import train_test_split\n",
        "\n",
        "predictor = np.asanyarray(new_data[['Location','Cuisine_1', 'Cuisine_2', 'Cuisine_3', 'Cuisine_4', 'Cuisine_5', 'Cuisine_6',\\\n",
        "                  'Cuisine_7', 'Cuisine_8', 'Minimum_Order', 'Average_Cost']])\n",
        "target = np.asanyarray(new_data['Delivery_Time'])\n",
        "\n",
        "#Splitting the data into training and testing\n",
        "X_train, X_test, y_train, y_test = train_test_split(predictor, target, test_size=0.3, random_state=42)\n",
        "\n",
        "#Modeling\n",
        "lr = LinearRegression()\n",
        "\n",
        "#Training the model\n",
        "lr.fit(X_train, y_train)"
      ],
      "execution_count": null,
      "outputs": [
        {
          "output_type": "execute_result",
          "data": {
            "text/plain": [
              "LinearRegression(copy_X=True, fit_intercept=True, n_jobs=None, normalize=False)"
            ]
          },
          "metadata": {
            "tags": []
          },
          "execution_count": 34
        }
      ]
    },
    {
      "cell_type": "code",
      "metadata": {
        "id": "g8Y_YVkP_bd3",
        "outputId": "eff52c22-3c70-4565-c9d6-ce24fad092b4",
        "colab": {
          "base_uri": "https://localhost:8080/"
        }
      },
      "source": [
        "#Prediction on training data\n",
        "train_pred = lr.predict(X_train)\n",
        "print('Mean Absolute Percentage Error on training data:',np.mean(np.abs((y_train - train_pred) / y_train)) * 100)\n",
        "\n",
        "#Prediction on validation data\n",
        "y_pred = lr.predict(X_test)\n",
        "print('Mean Absolute Percentage Error on testing data:',np.mean(np.abs((y_test - y_pred) / y_test)) * 100)"
      ],
      "execution_count": null,
      "outputs": [
        {
          "output_type": "stream",
          "text": [
            "Mean Absolute Percentage Error on training data: 21.903763302403163\n",
            "Mean Absolute Percentage Error on testing data: 22.19167864792981\n"
          ],
          "name": "stdout"
        }
      ]
    },
    {
      "cell_type": "markdown",
      "metadata": {
        "id": "0JXdFpRKYfT0"
      },
      "source": [
        "<h3>Looking at the values for MAPE, linear regression isn't the best model for predicting delivery time. It is preferred to make a neural network"
      ]
    },
    {
      "cell_type": "markdown",
      "metadata": {
        "id": "cP4AzxxAXJaN"
      },
      "source": [
        "<h3>Cleaning test data"
      ]
    },
    {
      "cell_type": "code",
      "metadata": {
        "id": "ULRkAwxACC6z",
        "outputId": "27917af0-b4d9-484f-c7a9-a6c2f4b7cb1e",
        "colab": {
          "base_uri": "https://localhost:8080/",
          "height": 222
        }
      },
      "source": [
        "test_df1 = pd.read_excel('Data_Test.xlsx')\n",
        "test_df1.replace(location_dict, inplace=True)\n",
        "test_df1['Average_Cost'] = test_df1['Average_Cost'].str.replace(r'\\D', '')\n",
        "test_df1['Minimum_Order'] = test_df1['Minimum_Order'].str.replace(r'\\D', '')\n",
        "test_df1[['Cuisine_1', 'Cuisine_2', 'Cuisine_3', 'Cuisine_4', 'Cuisine_5', 'Cuisine_6', 'Cuisine_7', 'Cuisine_8']] = test_df1.Cuisines.str.split(', ',expand=True) \n",
        "test_df1.replace(cuisine_dict, inplace=True)\n",
        "test_df1.fillna(-1, inplace=True)\n",
        "test_df1.drop(columns=['Cuisines'], inplace=True)\n",
        "test_df1.head()"
      ],
      "execution_count": null,
      "outputs": [
        {
          "output_type": "execute_result",
          "data": {
            "text/html": [
              "<div>\n",
              "<style scoped>\n",
              "    .dataframe tbody tr th:only-of-type {\n",
              "        vertical-align: middle;\n",
              "    }\n",
              "\n",
              "    .dataframe tbody tr th {\n",
              "        vertical-align: top;\n",
              "    }\n",
              "\n",
              "    .dataframe thead th {\n",
              "        text-align: right;\n",
              "    }\n",
              "</style>\n",
              "<table border=\"1\" class=\"dataframe\">\n",
              "  <thead>\n",
              "    <tr style=\"text-align: right;\">\n",
              "      <th></th>\n",
              "      <th>Restaurant</th>\n",
              "      <th>Location</th>\n",
              "      <th>Average_Cost</th>\n",
              "      <th>Minimum_Order</th>\n",
              "      <th>Rating</th>\n",
              "      <th>Votes</th>\n",
              "      <th>Reviews</th>\n",
              "      <th>Cuisine_1</th>\n",
              "      <th>Cuisine_2</th>\n",
              "      <th>Cuisine_3</th>\n",
              "      <th>Cuisine_4</th>\n",
              "      <th>Cuisine_5</th>\n",
              "      <th>Cuisine_6</th>\n",
              "      <th>Cuisine_7</th>\n",
              "      <th>Cuisine_8</th>\n",
              "    </tr>\n",
              "  </thead>\n",
              "  <tbody>\n",
              "    <tr>\n",
              "      <th>0</th>\n",
              "      <td>ID_2842</td>\n",
              "      <td>14</td>\n",
              "      <td>350</td>\n",
              "      <td>50</td>\n",
              "      <td>4.2</td>\n",
              "      <td>361</td>\n",
              "      <td>225</td>\n",
              "      <td>9</td>\n",
              "      <td>7.0</td>\n",
              "      <td>81.0</td>\n",
              "      <td>-1.0</td>\n",
              "      <td>-1.0</td>\n",
              "      <td>-1.0</td>\n",
              "      <td>-1.0</td>\n",
              "      <td>-1.0</td>\n",
              "    </tr>\n",
              "    <tr>\n",
              "      <th>1</th>\n",
              "      <td>ID_730</td>\n",
              "      <td>14</td>\n",
              "      <td>100</td>\n",
              "      <td>50</td>\n",
              "      <td>NEW</td>\n",
              "      <td>-</td>\n",
              "      <td>-</td>\n",
              "      <td>11</td>\n",
              "      <td>61.0</td>\n",
              "      <td>-1.0</td>\n",
              "      <td>-1.0</td>\n",
              "      <td>-1.0</td>\n",
              "      <td>-1.0</td>\n",
              "      <td>-1.0</td>\n",
              "      <td>-1.0</td>\n",
              "    </tr>\n",
              "    <tr>\n",
              "      <th>2</th>\n",
              "      <td>ID_4620</td>\n",
              "      <td>3</td>\n",
              "      <td>100</td>\n",
              "      <td>50</td>\n",
              "      <td>3.6</td>\n",
              "      <td>36</td>\n",
              "      <td>16</td>\n",
              "      <td>0</td>\n",
              "      <td>-1.0</td>\n",
              "      <td>-1.0</td>\n",
              "      <td>-1.0</td>\n",
              "      <td>-1.0</td>\n",
              "      <td>-1.0</td>\n",
              "      <td>-1.0</td>\n",
              "      <td>-1.0</td>\n",
              "    </tr>\n",
              "    <tr>\n",
              "      <th>3</th>\n",
              "      <td>ID_5470</td>\n",
              "      <td>27</td>\n",
              "      <td>200</td>\n",
              "      <td>50</td>\n",
              "      <td>3.6</td>\n",
              "      <td>66</td>\n",
              "      <td>33</td>\n",
              "      <td>8</td>\n",
              "      <td>9.0</td>\n",
              "      <td>7.0</td>\n",
              "      <td>0.0</td>\n",
              "      <td>5.0</td>\n",
              "      <td>-1.0</td>\n",
              "      <td>-1.0</td>\n",
              "      <td>-1.0</td>\n",
              "    </tr>\n",
              "    <tr>\n",
              "      <th>4</th>\n",
              "      <td>ID_3249</td>\n",
              "      <td>3</td>\n",
              "      <td>150</td>\n",
              "      <td>50</td>\n",
              "      <td>2.9</td>\n",
              "      <td>38</td>\n",
              "      <td>14</td>\n",
              "      <td>7</td>\n",
              "      <td>0.0</td>\n",
              "      <td>-1.0</td>\n",
              "      <td>-1.0</td>\n",
              "      <td>-1.0</td>\n",
              "      <td>-1.0</td>\n",
              "      <td>-1.0</td>\n",
              "      <td>-1.0</td>\n",
              "    </tr>\n",
              "  </tbody>\n",
              "</table>\n",
              "</div>"
            ],
            "text/plain": [
              "  Restaurant  Location Average_Cost  ... Cuisine_6 Cuisine_7 Cuisine_8\n",
              "0    ID_2842        14          350  ...      -1.0      -1.0      -1.0\n",
              "1     ID_730        14          100  ...      -1.0      -1.0      -1.0\n",
              "2    ID_4620         3          100  ...      -1.0      -1.0      -1.0\n",
              "3    ID_5470        27          200  ...      -1.0      -1.0      -1.0\n",
              "4    ID_3249         3          150  ...      -1.0      -1.0      -1.0\n",
              "\n",
              "[5 rows x 15 columns]"
            ]
          },
          "metadata": {
            "tags": []
          },
          "execution_count": 36
        }
      ]
    },
    {
      "cell_type": "markdown",
      "metadata": {
        "id": "LTxF9c7nXVmY"
      },
      "source": [
        "<h3>Making predictions and fitting it into test data"
      ]
    },
    {
      "cell_type": "code",
      "metadata": {
        "id": "LfDBm0YvRtgV",
        "outputId": "4bf9cf64-d2e5-4c5d-902a-e612d05b410a",
        "colab": {
          "base_uri": "https://localhost:8080/",
          "height": 222
        }
      },
      "source": [
        "predictor = np.asanyarray(test_df1[['Location','Cuisine_1', 'Cuisine_2', 'Cuisine_3', 'Cuisine_4', 'Cuisine_5', 'Cuisine_6',\\\n",
        "                  'Cuisine_7', 'Cuisine_8', 'Minimum_Order', 'Average_Cost']])\n",
        "test_df1['Delivery_Time'] = lr.predict(predictor)\n",
        "test_df1.head()"
      ],
      "execution_count": null,
      "outputs": [
        {
          "output_type": "execute_result",
          "data": {
            "text/html": [
              "<div>\n",
              "<style scoped>\n",
              "    .dataframe tbody tr th:only-of-type {\n",
              "        vertical-align: middle;\n",
              "    }\n",
              "\n",
              "    .dataframe tbody tr th {\n",
              "        vertical-align: top;\n",
              "    }\n",
              "\n",
              "    .dataframe thead th {\n",
              "        text-align: right;\n",
              "    }\n",
              "</style>\n",
              "<table border=\"1\" class=\"dataframe\">\n",
              "  <thead>\n",
              "    <tr style=\"text-align: right;\">\n",
              "      <th></th>\n",
              "      <th>Restaurant</th>\n",
              "      <th>Location</th>\n",
              "      <th>Average_Cost</th>\n",
              "      <th>Minimum_Order</th>\n",
              "      <th>Rating</th>\n",
              "      <th>Votes</th>\n",
              "      <th>Reviews</th>\n",
              "      <th>Cuisine_1</th>\n",
              "      <th>Cuisine_2</th>\n",
              "      <th>Cuisine_3</th>\n",
              "      <th>Cuisine_4</th>\n",
              "      <th>Cuisine_5</th>\n",
              "      <th>Cuisine_6</th>\n",
              "      <th>Cuisine_7</th>\n",
              "      <th>Cuisine_8</th>\n",
              "      <th>Delivery_Time</th>\n",
              "    </tr>\n",
              "  </thead>\n",
              "  <tbody>\n",
              "    <tr>\n",
              "      <th>0</th>\n",
              "      <td>ID_2842</td>\n",
              "      <td>14</td>\n",
              "      <td>350</td>\n",
              "      <td>50</td>\n",
              "      <td>4.2</td>\n",
              "      <td>361</td>\n",
              "      <td>225</td>\n",
              "      <td>9</td>\n",
              "      <td>7.0</td>\n",
              "      <td>81.0</td>\n",
              "      <td>-1.0</td>\n",
              "      <td>-1.0</td>\n",
              "      <td>-1.0</td>\n",
              "      <td>-1.0</td>\n",
              "      <td>-1.0</td>\n",
              "      <td>40.057053</td>\n",
              "    </tr>\n",
              "    <tr>\n",
              "      <th>1</th>\n",
              "      <td>ID_730</td>\n",
              "      <td>14</td>\n",
              "      <td>100</td>\n",
              "      <td>50</td>\n",
              "      <td>NEW</td>\n",
              "      <td>-</td>\n",
              "      <td>-</td>\n",
              "      <td>11</td>\n",
              "      <td>61.0</td>\n",
              "      <td>-1.0</td>\n",
              "      <td>-1.0</td>\n",
              "      <td>-1.0</td>\n",
              "      <td>-1.0</td>\n",
              "      <td>-1.0</td>\n",
              "      <td>-1.0</td>\n",
              "      <td>36.344969</td>\n",
              "    </tr>\n",
              "    <tr>\n",
              "      <th>2</th>\n",
              "      <td>ID_4620</td>\n",
              "      <td>3</td>\n",
              "      <td>100</td>\n",
              "      <td>50</td>\n",
              "      <td>3.6</td>\n",
              "      <td>36</td>\n",
              "      <td>16</td>\n",
              "      <td>0</td>\n",
              "      <td>-1.0</td>\n",
              "      <td>-1.0</td>\n",
              "      <td>-1.0</td>\n",
              "      <td>-1.0</td>\n",
              "      <td>-1.0</td>\n",
              "      <td>-1.0</td>\n",
              "      <td>-1.0</td>\n",
              "      <td>34.813485</td>\n",
              "    </tr>\n",
              "    <tr>\n",
              "      <th>3</th>\n",
              "      <td>ID_5470</td>\n",
              "      <td>27</td>\n",
              "      <td>200</td>\n",
              "      <td>50</td>\n",
              "      <td>3.6</td>\n",
              "      <td>66</td>\n",
              "      <td>33</td>\n",
              "      <td>8</td>\n",
              "      <td>9.0</td>\n",
              "      <td>7.0</td>\n",
              "      <td>0.0</td>\n",
              "      <td>5.0</td>\n",
              "      <td>-1.0</td>\n",
              "      <td>-1.0</td>\n",
              "      <td>-1.0</td>\n",
              "      <td>36.820452</td>\n",
              "    </tr>\n",
              "    <tr>\n",
              "      <th>4</th>\n",
              "      <td>ID_3249</td>\n",
              "      <td>3</td>\n",
              "      <td>150</td>\n",
              "      <td>50</td>\n",
              "      <td>2.9</td>\n",
              "      <td>38</td>\n",
              "      <td>14</td>\n",
              "      <td>7</td>\n",
              "      <td>0.0</td>\n",
              "      <td>-1.0</td>\n",
              "      <td>-1.0</td>\n",
              "      <td>-1.0</td>\n",
              "      <td>-1.0</td>\n",
              "      <td>-1.0</td>\n",
              "      <td>-1.0</td>\n",
              "      <td>35.436029</td>\n",
              "    </tr>\n",
              "  </tbody>\n",
              "</table>\n",
              "</div>"
            ],
            "text/plain": [
              "  Restaurant  Location Average_Cost  ... Cuisine_7 Cuisine_8 Delivery_Time\n",
              "0    ID_2842        14          350  ...      -1.0      -1.0     40.057053\n",
              "1     ID_730        14          100  ...      -1.0      -1.0     36.344969\n",
              "2    ID_4620         3          100  ...      -1.0      -1.0     34.813485\n",
              "3    ID_5470        27          200  ...      -1.0      -1.0     36.820452\n",
              "4    ID_3249         3          150  ...      -1.0      -1.0     35.436029\n",
              "\n",
              "[5 rows x 16 columns]"
            ]
          },
          "metadata": {
            "tags": []
          },
          "execution_count": 37
        }
      ]
    },
    {
      "cell_type": "markdown",
      "metadata": {
        "id": "lEKDdRL2_bd6"
      },
      "source": [
        "<h3>Preparing for classification"
      ]
    },
    {
      "cell_type": "code",
      "metadata": {
        "id": "0SSoibbFgSAX",
        "outputId": "138c9c01-1c8f-4bb4-9e81-b7ab2988e251",
        "colab": {
          "base_uri": "https://localhost:8080/"
        }
      },
      "source": [
        "new_data['Delivery_Time'].unique()"
      ],
      "execution_count": null,
      "outputs": [
        {
          "output_type": "execute_result",
          "data": {
            "text/plain": [
              "array([ 30,  45,  65,  20, 120,  80,  10])"
            ]
          },
          "metadata": {
            "tags": []
          },
          "execution_count": 38
        }
      ]
    },
    {
      "cell_type": "code",
      "metadata": {
        "id": "kfn0cmvH_bd-",
        "outputId": "9c77bcb1-fe6f-45c4-b4a3-4e4c4313520c",
        "colab": {
          "base_uri": "https://localhost:8080/",
          "height": 222
        }
      },
      "source": [
        "encode = {'Delivery_Time': {10:0, 20:1, 30:2, 45:3, 65:4, 80:5, 120:6}}\n",
        "new_data = new_data.replace(encode)\n",
        "new_data.head()"
      ],
      "execution_count": null,
      "outputs": [
        {
          "output_type": "execute_result",
          "data": {
            "text/html": [
              "<div>\n",
              "<style scoped>\n",
              "    .dataframe tbody tr th:only-of-type {\n",
              "        vertical-align: middle;\n",
              "    }\n",
              "\n",
              "    .dataframe tbody tr th {\n",
              "        vertical-align: top;\n",
              "    }\n",
              "\n",
              "    .dataframe thead th {\n",
              "        text-align: right;\n",
              "    }\n",
              "</style>\n",
              "<table border=\"1\" class=\"dataframe\">\n",
              "  <thead>\n",
              "    <tr style=\"text-align: right;\">\n",
              "      <th></th>\n",
              "      <th>Restaurant</th>\n",
              "      <th>Location</th>\n",
              "      <th>Average_Cost</th>\n",
              "      <th>Minimum_Order</th>\n",
              "      <th>Rating</th>\n",
              "      <th>Votes</th>\n",
              "      <th>Reviews</th>\n",
              "      <th>Delivery_Time</th>\n",
              "      <th>Cuisine_1</th>\n",
              "      <th>Cuisine_2</th>\n",
              "      <th>Cuisine_3</th>\n",
              "      <th>Cuisine_4</th>\n",
              "      <th>Cuisine_5</th>\n",
              "      <th>Cuisine_6</th>\n",
              "      <th>Cuisine_7</th>\n",
              "      <th>Cuisine_8</th>\n",
              "    </tr>\n",
              "  </thead>\n",
              "  <tbody>\n",
              "    <tr>\n",
              "      <th>0</th>\n",
              "      <td>ID_2728</td>\n",
              "      <td>7</td>\n",
              "      <td>200.0</td>\n",
              "      <td>50</td>\n",
              "      <td>3.1</td>\n",
              "      <td>7</td>\n",
              "      <td>-</td>\n",
              "      <td>2</td>\n",
              "      <td>9</td>\n",
              "      <td>7.0</td>\n",
              "      <td>-1.0</td>\n",
              "      <td>-1.0</td>\n",
              "      <td>-1.0</td>\n",
              "      <td>-1.0</td>\n",
              "      <td>-1.0</td>\n",
              "      <td>-1.0</td>\n",
              "    </tr>\n",
              "    <tr>\n",
              "      <th>1</th>\n",
              "      <td>ID_8353</td>\n",
              "      <td>6</td>\n",
              "      <td>250.0</td>\n",
              "      <td>99</td>\n",
              "      <td>4.0</td>\n",
              "      <td>498</td>\n",
              "      <td>272</td>\n",
              "      <td>3</td>\n",
              "      <td>4</td>\n",
              "      <td>34.0</td>\n",
              "      <td>11.0</td>\n",
              "      <td>7.0</td>\n",
              "      <td>25.0</td>\n",
              "      <td>2.0</td>\n",
              "      <td>13.0</td>\n",
              "      <td>17.0</td>\n",
              "    </tr>\n",
              "    <tr>\n",
              "      <th>2</th>\n",
              "      <td>ID_6937</td>\n",
              "      <td>15</td>\n",
              "      <td>200.0</td>\n",
              "      <td>50</td>\n",
              "      <td>-</td>\n",
              "      <td>-</td>\n",
              "      <td>-</td>\n",
              "      <td>3</td>\n",
              "      <td>9</td>\n",
              "      <td>7.0</td>\n",
              "      <td>0.0</td>\n",
              "      <td>-1.0</td>\n",
              "      <td>-1.0</td>\n",
              "      <td>-1.0</td>\n",
              "      <td>-1.0</td>\n",
              "      <td>-1.0</td>\n",
              "    </tr>\n",
              "    <tr>\n",
              "      <th>3</th>\n",
              "      <td>ID_6721</td>\n",
              "      <td>7</td>\n",
              "      <td>150.0</td>\n",
              "      <td>50</td>\n",
              "      <td>NEW</td>\n",
              "      <td>-</td>\n",
              "      <td>-</td>\n",
              "      <td>2</td>\n",
              "      <td>9</td>\n",
              "      <td>-1.0</td>\n",
              "      <td>-1.0</td>\n",
              "      <td>-1.0</td>\n",
              "      <td>-1.0</td>\n",
              "      <td>-1.0</td>\n",
              "      <td>-1.0</td>\n",
              "      <td>-1.0</td>\n",
              "    </tr>\n",
              "    <tr>\n",
              "      <th>4</th>\n",
              "      <td>ID_8087</td>\n",
              "      <td>14</td>\n",
              "      <td>600.0</td>\n",
              "      <td>99</td>\n",
              "      <td>4.2</td>\n",
              "      <td>3782</td>\n",
              "      <td>1948</td>\n",
              "      <td>2</td>\n",
              "      <td>7</td>\n",
              "      <td>50.0</td>\n",
              "      <td>15.0</td>\n",
              "      <td>69.0</td>\n",
              "      <td>84.0</td>\n",
              "      <td>100.0</td>\n",
              "      <td>88.0</td>\n",
              "      <td>-1.0</td>\n",
              "    </tr>\n",
              "  </tbody>\n",
              "</table>\n",
              "</div>"
            ],
            "text/plain": [
              "  Restaurant  Location  Average_Cost  ...  Cuisine_6 Cuisine_7 Cuisine_8\n",
              "0    ID_2728         7         200.0  ...       -1.0      -1.0      -1.0\n",
              "1    ID_8353         6         250.0  ...        2.0      13.0      17.0\n",
              "2    ID_6937        15         200.0  ...       -1.0      -1.0      -1.0\n",
              "3    ID_6721         7         150.0  ...       -1.0      -1.0      -1.0\n",
              "4    ID_8087        14         600.0  ...      100.0      88.0      -1.0\n",
              "\n",
              "[5 rows x 16 columns]"
            ]
          },
          "metadata": {
            "tags": []
          },
          "execution_count": 39
        }
      ]
    },
    {
      "cell_type": "markdown",
      "metadata": {
        "id": "5f-xFR63_beC"
      },
      "source": [
        "<h3>Classification models"
      ]
    },
    {
      "cell_type": "code",
      "metadata": {
        "id": "H2OZ7o2A_beD"
      },
      "source": [
        "from sklearn.linear_model import LogisticRegression\n",
        "from sklearn.naive_bayes import GaussianNB\n",
        "from sklearn.neighbors import KNeighborsClassifier\n",
        "from sklearn.svm import SVC\n",
        "from sklearn.ensemble import GradientBoostingClassifier\n",
        "from sklearn.ensemble import RandomForestClassifier\n",
        "from sklearn.tree import DecisionTreeClassifier, export_graphviz\n",
        "from sklearn import metrics\n",
        "from sklearn.metrics import classification_report\n",
        "\n",
        "\n",
        "def classifier(model, data, X, y):\n",
        "    X_train, X_test, y_train, y_test = train_test_split(data[X], data[y], test_size=0.3, random_state=42)\n",
        "    model.fit(X_train,y_train)\n",
        "    train_pred = model.predict(X_train)\n",
        "    print(train_pred)\n",
        "    train_accuracy = metrics.accuracy_score(train_pred,y_train)\n",
        "    print('Accuracy on training data is: %s' % '{0:.3%}'.format(train_accuracy))\n",
        "    test_pred = model.predict(X_test)\n",
        "    print('\\n',test_pred)\n",
        "    test_accuracy = metrics.accuracy_score(test_pred, y_test)\n",
        "    print('Accuracy on testing data is: %s' % '{0:.3%}'.format(test_accuracy))\n"
      ],
      "execution_count": null,
      "outputs": []
    },
    {
      "cell_type": "markdown",
      "metadata": {
        "id": "GnHKoQok_beI"
      },
      "source": [
        "<h3>Logistic Regression"
      ]
    },
    {
      "cell_type": "code",
      "metadata": {
        "id": "O3vqyvVc_beK",
        "outputId": "78ad79a0-41ed-4062-92ee-a22b27814193",
        "colab": {
          "base_uri": "https://localhost:8080/"
        }
      },
      "source": [
        "outcome_var='Delivery_Time'\n",
        "predictor_var = ['Location','Cuisine_1', 'Cuisine_2', 'Cuisine_3', 'Cuisine_4', 'Cuisine_5', \\\n",
        "                 'Cuisine_6', 'Cuisine_7', 'Cuisine_8', 'Minimum_Order', 'Average_Cost']\n",
        "model_lr =LogisticRegression()\n",
        "classifier(model_lr, new_data,predictor_var,outcome_var)"
      ],
      "execution_count": null,
      "outputs": [
        {
          "output_type": "stream",
          "text": [
            "[2 2 2 ... 2 2 2]\n",
            "Accuracy on training data is: 66.941%\n",
            "\n",
            " [2 3 2 ... 2 2 3]\n",
            "Accuracy on testing data is: 66.416%\n"
          ],
          "name": "stdout"
        },
        {
          "output_type": "stream",
          "text": [
            "/usr/local/lib/python3.6/dist-packages/sklearn/linear_model/_logistic.py:940: ConvergenceWarning: lbfgs failed to converge (status=1):\n",
            "STOP: TOTAL NO. of ITERATIONS REACHED LIMIT.\n",
            "\n",
            "Increase the number of iterations (max_iter) or scale the data as shown in:\n",
            "    https://scikit-learn.org/stable/modules/preprocessing.html\n",
            "Please also refer to the documentation for alternative solver options:\n",
            "    https://scikit-learn.org/stable/modules/linear_model.html#logistic-regression\n",
            "  extra_warning_msg=_LOGISTIC_SOLVER_CONVERGENCE_MSG)\n"
          ],
          "name": "stderr"
        }
      ]
    },
    {
      "cell_type": "markdown",
      "metadata": {
        "id": "ziGafb4d_beT"
      },
      "source": [
        "<h3>Gaussian Naive Bayes"
      ]
    },
    {
      "cell_type": "code",
      "metadata": {
        "id": "n011UwQA_beU",
        "outputId": "dbb01733-f06e-4283-cb70-dc3bdf032ae5",
        "colab": {
          "base_uri": "https://localhost:8080/"
        }
      },
      "source": [
        "outcome_var='Delivery_Time'\n",
        "predictor_var = ['Location','Cuisine_1', 'Cuisine_2', 'Cuisine_3', 'Cuisine_4', \\\n",
        "                 'Cuisine_5', 'Cuisine_6', 'Cuisine_7', 'Cuisine_8', 'Minimum_Order', 'Average_Cost']\n",
        "model_nb = GaussianNB() \n",
        "classifier(model_nb, new_data,predictor_var,outcome_var)"
      ],
      "execution_count": null,
      "outputs": [
        {
          "output_type": "stream",
          "text": [
            "[1 2 0 ... 1 1 0]\n",
            "Accuracy on training data is: 3.902%\n",
            "\n",
            " [6 5 1 ... 1 1 5]\n",
            "Accuracy on testing data is: 3.905%\n"
          ],
          "name": "stdout"
        }
      ]
    },
    {
      "cell_type": "markdown",
      "metadata": {
        "id": "vB9qhC2k_beb"
      },
      "source": [
        "<h3>KNN Classifier"
      ]
    },
    {
      "cell_type": "code",
      "metadata": {
        "id": "vdJitxGl_bec",
        "outputId": "3351992f-a66a-4c1a-eeb0-50ede7a0f621",
        "colab": {
          "base_uri": "https://localhost:8080/"
        }
      },
      "source": [
        "outcome_var='Delivery_Time'\n",
        "predictor_var = ['Location','Cuisine_1', 'Cuisine_2', 'Cuisine_3', 'Cuisine_4', 'Cuisine_5', 'Cuisine_6', 'Cuisine_7', \\\n",
        "                 'Cuisine_8', 'Minimum_Order', 'Average_Cost']\n",
        "model_knn = KNeighborsClassifier(n_neighbors=1)\n",
        "classifier(model_knn, new_data,predictor_var,outcome_var)"
      ],
      "execution_count": null,
      "outputs": [
        {
          "output_type": "stream",
          "text": [
            "[2 2 2 ... 2 2 2]\n",
            "Accuracy on training data is: 90.547%\n",
            "\n",
            " [3 4 2 ... 2 2 2]\n",
            "Accuracy on testing data is: 59.417%\n"
          ],
          "name": "stdout"
        }
      ]
    },
    {
      "cell_type": "markdown",
      "metadata": {
        "id": "g8Q2nMl-_bei"
      },
      "source": [
        "<h3>Support Vector Machine"
      ]
    },
    {
      "cell_type": "code",
      "metadata": {
        "id": "3UDB--8i_bek",
        "outputId": "a11cd226-27d7-43b6-88b0-a8db45ae2644",
        "colab": {
          "base_uri": "https://localhost:8080/"
        }
      },
      "source": [
        "outcome_var='Delivery_Time'\n",
        "predictor_var = ['Location','Cuisine_1', 'Cuisine_2', 'Cuisine_3', 'Cuisine_4', 'Cuisine_5', \\\n",
        "                 'Cuisine_6', 'Cuisine_7', 'Cuisine_8', 'Minimum_Order', 'Average_Cost']\n",
        "model_svc = SVC(kernel='rbf', C=1, gamma=1) \n",
        "classifier(model_svc, new_data,predictor_var,outcome_var)"
      ],
      "execution_count": null,
      "outputs": [
        {
          "output_type": "stream",
          "text": [
            "[2 2 2 ... 2 2 2]\n",
            "Accuracy on training data is: 91.075%\n",
            "\n",
            " [3 2 2 ... 2 2 2]\n",
            "Accuracy on testing data is: 65.605%\n"
          ],
          "name": "stdout"
        }
      ]
    },
    {
      "cell_type": "markdown",
      "metadata": {
        "id": "8xL-8X52_bep"
      },
      "source": [
        "<h3>Gradient Boosting Classifier"
      ]
    },
    {
      "cell_type": "code",
      "metadata": {
        "id": "SfWXZCtL_ber",
        "outputId": "f06cc4a7-e195-47b4-c5a3-4e1280677ce0",
        "colab": {
          "base_uri": "https://localhost:8080/"
        }
      },
      "source": [
        "outcome_var='Delivery_Time'\n",
        "predictor_var = ['Location','Cuisine_1', 'Cuisine_2', 'Cuisine_3', 'Cuisine_4', 'Cuisine_5', \\\n",
        "                 'Cuisine_6', 'Cuisine_7', 'Cuisine_8', 'Minimum_Order', 'Average_Cost']\n",
        "model_gb = GradientBoostingClassifier(n_estimators=1000, learning_rate=0.1, max_depth=3, random_state=42)\n",
        "classifier(model_gb, new_data,predictor_var,outcome_var)"
      ],
      "execution_count": null,
      "outputs": [
        {
          "output_type": "stream",
          "text": [
            "[2 2 2 ... 2 2 2]\n",
            "Accuracy on training data is: 80.296%\n",
            "\n",
            " [3 3 2 ... 2 2 3]\n",
            "Accuracy on testing data is: 70.412%\n"
          ],
          "name": "stdout"
        }
      ]
    },
    {
      "cell_type": "markdown",
      "metadata": {
        "id": "pKGuKMZf_bew"
      },
      "source": [
        "<h3>Decision Tree"
      ]
    },
    {
      "cell_type": "code",
      "metadata": {
        "id": "7ofEXILB_bex",
        "outputId": "74b6dd8a-af33-41fe-e0a5-f2986cdc79d3",
        "colab": {
          "base_uri": "https://localhost:8080/"
        }
      },
      "source": [
        "outcome_var='Delivery_Time'\n",
        "predictor_var = ['Location','Cuisine_1', 'Cuisine_2', 'Cuisine_3', 'Cuisine_4', 'Cuisine_5', \\\n",
        "                 'Cuisine_6', 'Cuisine_7', 'Cuisine_8', 'Minimum_Order', 'Average_Cost']\n",
        "model_dt = DecisionTreeClassifier(criterion='gini')\n",
        "classifier(model_dt, new_data,predictor_var,outcome_var)"
      ],
      "execution_count": null,
      "outputs": [
        {
          "output_type": "stream",
          "text": [
            "[2 2 2 ... 2 2 2]\n",
            "Accuracy on training data is: 92.363%\n",
            "\n",
            " [3 4 2 ... 2 2 2]\n",
            "Accuracy on testing data is: 62.571%\n"
          ],
          "name": "stdout"
        }
      ]
    },
    {
      "cell_type": "markdown",
      "metadata": {
        "id": "7OzOzLTS_be2"
      },
      "source": [
        "<h3>Random Forest"
      ]
    },
    {
      "cell_type": "code",
      "metadata": {
        "id": "TRTwsasE_be2",
        "outputId": "89a3b5c8-5f28-4c3a-c84e-0585dca28daf",
        "colab": {
          "base_uri": "https://localhost:8080/"
        }
      },
      "source": [
        "outcome_var='Delivery_Time'\n",
        "predictor_var = ['Location','Cuisine_1', 'Cuisine_2', 'Cuisine_3', 'Cuisine_4', 'Cuisine_5', \\\n",
        "                 'Cuisine_6', 'Cuisine_7', 'Cuisine_8', 'Minimum_Order', 'Average_Cost']\n",
        "model_rfc = RandomForestClassifier(n_estimators=100, random_state=42)\n",
        "classifier(model_rfc, new_data,predictor_var,outcome_var)"
      ],
      "execution_count": null,
      "outputs": [
        {
          "output_type": "stream",
          "text": [
            "[2 2 2 ... 2 2 2]\n",
            "Accuracy on training data is: 92.350%\n",
            "\n",
            " [3 4 2 ... 2 2 3]\n",
            "Accuracy on testing data is: 67.918%\n"
          ],
          "name": "stdout"
        }
      ]
    },
    {
      "cell_type": "markdown",
      "metadata": {
        "id": "lf0W6dm2_be6"
      },
      "source": [
        "<h4>Here we saw that Gradient Boosting Classifier gives best testing accuracy so we will be using that for test data"
      ]
    },
    {
      "cell_type": "code",
      "metadata": {
        "id": "5EJdh8Lr_be7",
        "outputId": "a68aa2d8-e59d-486e-cce0-bcb28ab29d17",
        "colab": {
          "base_uri": "https://localhost:8080/",
          "height": 222
        }
      },
      "source": [
        "test_df = pd.read_excel('Data_Test.xlsx')\n",
        "test_df.replace(location_dict, inplace=True)\n",
        "test_df['Average_Cost'] = test_df['Average_Cost'].str.replace(r'\\D', '')\n",
        "test_df['Minimum_Order'] = test_df['Minimum_Order'].str.replace(r'\\D', '')\n",
        "test_df[['Cuisine_1', 'Cuisine_2', 'Cuisine_3', 'Cuisine_4', 'Cuisine_5', 'Cuisine_6', 'Cuisine_7', 'Cuisine_8']] = test_df.Cuisines.str.split(', ',expand=True) \n",
        "test_df.replace(cuisine_dict, inplace=True)\n",
        "test_df.fillna(-1, inplace=True)\n",
        "test_df.drop(columns=['Cuisines'], inplace=True)\n",
        "test_df.head()"
      ],
      "execution_count": null,
      "outputs": [
        {
          "output_type": "execute_result",
          "data": {
            "text/html": [
              "<div>\n",
              "<style scoped>\n",
              "    .dataframe tbody tr th:only-of-type {\n",
              "        vertical-align: middle;\n",
              "    }\n",
              "\n",
              "    .dataframe tbody tr th {\n",
              "        vertical-align: top;\n",
              "    }\n",
              "\n",
              "    .dataframe thead th {\n",
              "        text-align: right;\n",
              "    }\n",
              "</style>\n",
              "<table border=\"1\" class=\"dataframe\">\n",
              "  <thead>\n",
              "    <tr style=\"text-align: right;\">\n",
              "      <th></th>\n",
              "      <th>Restaurant</th>\n",
              "      <th>Location</th>\n",
              "      <th>Average_Cost</th>\n",
              "      <th>Minimum_Order</th>\n",
              "      <th>Rating</th>\n",
              "      <th>Votes</th>\n",
              "      <th>Reviews</th>\n",
              "      <th>Cuisine_1</th>\n",
              "      <th>Cuisine_2</th>\n",
              "      <th>Cuisine_3</th>\n",
              "      <th>Cuisine_4</th>\n",
              "      <th>Cuisine_5</th>\n",
              "      <th>Cuisine_6</th>\n",
              "      <th>Cuisine_7</th>\n",
              "      <th>Cuisine_8</th>\n",
              "    </tr>\n",
              "  </thead>\n",
              "  <tbody>\n",
              "    <tr>\n",
              "      <th>0</th>\n",
              "      <td>ID_2842</td>\n",
              "      <td>14</td>\n",
              "      <td>350</td>\n",
              "      <td>50</td>\n",
              "      <td>4.2</td>\n",
              "      <td>361</td>\n",
              "      <td>225</td>\n",
              "      <td>9</td>\n",
              "      <td>7.0</td>\n",
              "      <td>81.0</td>\n",
              "      <td>-1.0</td>\n",
              "      <td>-1.0</td>\n",
              "      <td>-1.0</td>\n",
              "      <td>-1.0</td>\n",
              "      <td>-1.0</td>\n",
              "    </tr>\n",
              "    <tr>\n",
              "      <th>1</th>\n",
              "      <td>ID_730</td>\n",
              "      <td>14</td>\n",
              "      <td>100</td>\n",
              "      <td>50</td>\n",
              "      <td>NEW</td>\n",
              "      <td>-</td>\n",
              "      <td>-</td>\n",
              "      <td>11</td>\n",
              "      <td>61.0</td>\n",
              "      <td>-1.0</td>\n",
              "      <td>-1.0</td>\n",
              "      <td>-1.0</td>\n",
              "      <td>-1.0</td>\n",
              "      <td>-1.0</td>\n",
              "      <td>-1.0</td>\n",
              "    </tr>\n",
              "    <tr>\n",
              "      <th>2</th>\n",
              "      <td>ID_4620</td>\n",
              "      <td>3</td>\n",
              "      <td>100</td>\n",
              "      <td>50</td>\n",
              "      <td>3.6</td>\n",
              "      <td>36</td>\n",
              "      <td>16</td>\n",
              "      <td>0</td>\n",
              "      <td>-1.0</td>\n",
              "      <td>-1.0</td>\n",
              "      <td>-1.0</td>\n",
              "      <td>-1.0</td>\n",
              "      <td>-1.0</td>\n",
              "      <td>-1.0</td>\n",
              "      <td>-1.0</td>\n",
              "    </tr>\n",
              "    <tr>\n",
              "      <th>3</th>\n",
              "      <td>ID_5470</td>\n",
              "      <td>27</td>\n",
              "      <td>200</td>\n",
              "      <td>50</td>\n",
              "      <td>3.6</td>\n",
              "      <td>66</td>\n",
              "      <td>33</td>\n",
              "      <td>8</td>\n",
              "      <td>9.0</td>\n",
              "      <td>7.0</td>\n",
              "      <td>0.0</td>\n",
              "      <td>5.0</td>\n",
              "      <td>-1.0</td>\n",
              "      <td>-1.0</td>\n",
              "      <td>-1.0</td>\n",
              "    </tr>\n",
              "    <tr>\n",
              "      <th>4</th>\n",
              "      <td>ID_3249</td>\n",
              "      <td>3</td>\n",
              "      <td>150</td>\n",
              "      <td>50</td>\n",
              "      <td>2.9</td>\n",
              "      <td>38</td>\n",
              "      <td>14</td>\n",
              "      <td>7</td>\n",
              "      <td>0.0</td>\n",
              "      <td>-1.0</td>\n",
              "      <td>-1.0</td>\n",
              "      <td>-1.0</td>\n",
              "      <td>-1.0</td>\n",
              "      <td>-1.0</td>\n",
              "      <td>-1.0</td>\n",
              "    </tr>\n",
              "  </tbody>\n",
              "</table>\n",
              "</div>"
            ],
            "text/plain": [
              "  Restaurant  Location Average_Cost  ... Cuisine_6 Cuisine_7 Cuisine_8\n",
              "0    ID_2842        14          350  ...      -1.0      -1.0      -1.0\n",
              "1     ID_730        14          100  ...      -1.0      -1.0      -1.0\n",
              "2    ID_4620         3          100  ...      -1.0      -1.0      -1.0\n",
              "3    ID_5470        27          200  ...      -1.0      -1.0      -1.0\n",
              "4    ID_3249         3          150  ...      -1.0      -1.0      -1.0\n",
              "\n",
              "[5 rows x 15 columns]"
            ]
          },
          "metadata": {
            "tags": []
          },
          "execution_count": 49
        }
      ]
    },
    {
      "cell_type": "markdown",
      "metadata": {
        "id": "KN9SCipE_be-"
      },
      "source": [
        "<h3>Prediction and adding it to the data"
      ]
    },
    {
      "cell_type": "code",
      "metadata": {
        "id": "CpEFKIYg_be_",
        "outputId": "3335a9b8-ce9b-45be-d73f-93a2640d0bec",
        "colab": {
          "base_uri": "https://localhost:8080/",
          "height": 222
        }
      },
      "source": [
        "predictor_var = ['Location', 'Cuisine_1', 'Cuisine_2', 'Cuisine_3', 'Cuisine_4', 'Cuisine_5', 'Cuisine_6', 'Cuisine_7', 'Cuisine_8', 'Minimum_Order', 'Average_Cost']\n",
        "prediction = model_gb.predict(test_df[predictor_var])\n",
        "\n",
        "minutes = []\n",
        "for i in prediction:\n",
        "    minutes.append(list(encode['Delivery_Time'].keys())[list(encode['Delivery_Time'].values()).index(i)])\n",
        "\n",
        "test_df['Delivery_Time'] = minutes\n",
        "test_df.head()"
      ],
      "execution_count": null,
      "outputs": [
        {
          "output_type": "execute_result",
          "data": {
            "text/html": [
              "<div>\n",
              "<style scoped>\n",
              "    .dataframe tbody tr th:only-of-type {\n",
              "        vertical-align: middle;\n",
              "    }\n",
              "\n",
              "    .dataframe tbody tr th {\n",
              "        vertical-align: top;\n",
              "    }\n",
              "\n",
              "    .dataframe thead th {\n",
              "        text-align: right;\n",
              "    }\n",
              "</style>\n",
              "<table border=\"1\" class=\"dataframe\">\n",
              "  <thead>\n",
              "    <tr style=\"text-align: right;\">\n",
              "      <th></th>\n",
              "      <th>Restaurant</th>\n",
              "      <th>Location</th>\n",
              "      <th>Average_Cost</th>\n",
              "      <th>Minimum_Order</th>\n",
              "      <th>Rating</th>\n",
              "      <th>Votes</th>\n",
              "      <th>Reviews</th>\n",
              "      <th>Cuisine_1</th>\n",
              "      <th>Cuisine_2</th>\n",
              "      <th>Cuisine_3</th>\n",
              "      <th>Cuisine_4</th>\n",
              "      <th>Cuisine_5</th>\n",
              "      <th>Cuisine_6</th>\n",
              "      <th>Cuisine_7</th>\n",
              "      <th>Cuisine_8</th>\n",
              "      <th>Delivery_Time</th>\n",
              "    </tr>\n",
              "  </thead>\n",
              "  <tbody>\n",
              "    <tr>\n",
              "      <th>0</th>\n",
              "      <td>ID_2842</td>\n",
              "      <td>14</td>\n",
              "      <td>350</td>\n",
              "      <td>50</td>\n",
              "      <td>4.2</td>\n",
              "      <td>361</td>\n",
              "      <td>225</td>\n",
              "      <td>9</td>\n",
              "      <td>7.0</td>\n",
              "      <td>81.0</td>\n",
              "      <td>-1.0</td>\n",
              "      <td>-1.0</td>\n",
              "      <td>-1.0</td>\n",
              "      <td>-1.0</td>\n",
              "      <td>-1.0</td>\n",
              "      <td>30</td>\n",
              "    </tr>\n",
              "    <tr>\n",
              "      <th>1</th>\n",
              "      <td>ID_730</td>\n",
              "      <td>14</td>\n",
              "      <td>100</td>\n",
              "      <td>50</td>\n",
              "      <td>NEW</td>\n",
              "      <td>-</td>\n",
              "      <td>-</td>\n",
              "      <td>11</td>\n",
              "      <td>61.0</td>\n",
              "      <td>-1.0</td>\n",
              "      <td>-1.0</td>\n",
              "      <td>-1.0</td>\n",
              "      <td>-1.0</td>\n",
              "      <td>-1.0</td>\n",
              "      <td>-1.0</td>\n",
              "      <td>30</td>\n",
              "    </tr>\n",
              "    <tr>\n",
              "      <th>2</th>\n",
              "      <td>ID_4620</td>\n",
              "      <td>3</td>\n",
              "      <td>100</td>\n",
              "      <td>50</td>\n",
              "      <td>3.6</td>\n",
              "      <td>36</td>\n",
              "      <td>16</td>\n",
              "      <td>0</td>\n",
              "      <td>-1.0</td>\n",
              "      <td>-1.0</td>\n",
              "      <td>-1.0</td>\n",
              "      <td>-1.0</td>\n",
              "      <td>-1.0</td>\n",
              "      <td>-1.0</td>\n",
              "      <td>-1.0</td>\n",
              "      <td>30</td>\n",
              "    </tr>\n",
              "    <tr>\n",
              "      <th>3</th>\n",
              "      <td>ID_5470</td>\n",
              "      <td>27</td>\n",
              "      <td>200</td>\n",
              "      <td>50</td>\n",
              "      <td>3.6</td>\n",
              "      <td>66</td>\n",
              "      <td>33</td>\n",
              "      <td>8</td>\n",
              "      <td>9.0</td>\n",
              "      <td>7.0</td>\n",
              "      <td>0.0</td>\n",
              "      <td>5.0</td>\n",
              "      <td>-1.0</td>\n",
              "      <td>-1.0</td>\n",
              "      <td>-1.0</td>\n",
              "      <td>30</td>\n",
              "    </tr>\n",
              "    <tr>\n",
              "      <th>4</th>\n",
              "      <td>ID_3249</td>\n",
              "      <td>3</td>\n",
              "      <td>150</td>\n",
              "      <td>50</td>\n",
              "      <td>2.9</td>\n",
              "      <td>38</td>\n",
              "      <td>14</td>\n",
              "      <td>7</td>\n",
              "      <td>0.0</td>\n",
              "      <td>-1.0</td>\n",
              "      <td>-1.0</td>\n",
              "      <td>-1.0</td>\n",
              "      <td>-1.0</td>\n",
              "      <td>-1.0</td>\n",
              "      <td>-1.0</td>\n",
              "      <td>30</td>\n",
              "    </tr>\n",
              "  </tbody>\n",
              "</table>\n",
              "</div>"
            ],
            "text/plain": [
              "  Restaurant  Location Average_Cost  ... Cuisine_7 Cuisine_8 Delivery_Time\n",
              "0    ID_2842        14          350  ...      -1.0      -1.0            30\n",
              "1     ID_730        14          100  ...      -1.0      -1.0            30\n",
              "2    ID_4620         3          100  ...      -1.0      -1.0            30\n",
              "3    ID_5470        27          200  ...      -1.0      -1.0            30\n",
              "4    ID_3249         3          150  ...      -1.0      -1.0            30\n",
              "\n",
              "[5 rows x 16 columns]"
            ]
          },
          "metadata": {
            "tags": []
          },
          "execution_count": 50
        }
      ]
    },
    {
      "cell_type": "markdown",
      "metadata": {
        "id": "bXWGDJHmWTbR"
      },
      "source": [
        "<h4>Looking at this, we can convert the problem statement to classification problem as the values in our target variable is discrete and it might work better than our regression model but if we used neural network, it would give better results"
      ]
    }
  ]
}